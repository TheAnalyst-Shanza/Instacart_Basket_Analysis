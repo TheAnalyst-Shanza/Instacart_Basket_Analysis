{
 "cells": [
  {
   "cell_type": "markdown",
   "id": "29e94663-4f5a-4999-a3c5-e76bd7cf7a77",
   "metadata": {},
   "source": [
    "# Importing Libraries"
   ]
  },
  {
   "cell_type": "code",
   "execution_count": 1,
   "id": "84073985-ca2b-432f-85af-d538cf2c123a",
   "metadata": {},
   "outputs": [],
   "source": [
    "# Importing libraries\n",
    "import pandas as pd\n",
    "import numpy as np\n",
    "import os"
   ]
  },
  {
   "cell_type": "markdown",
   "id": "16cb30ca-937d-4e4f-855a-e4633d68447c",
   "metadata": {},
   "source": [
    "# Data Types"
   ]
  },
  {
   "cell_type": "code",
   "execution_count": 5,
   "id": "7414e333-b7d0-439d-b99e-51f126712e17",
   "metadata": {},
   "outputs": [],
   "source": [
    "# Three different ways to reach 100 using addition and subtraction\n",
    "method_1 = 50 + 50\n",
    "method_2 = 200 - 100\n",
    "method_3 = 25 * 4"
   ]
  },
  {
   "cell_type": "code",
   "execution_count": 6,
   "id": "6d6b6e4a-e7f0-4b28-a297-edcff10e18e8",
   "metadata": {},
   "outputs": [
    {
     "name": "stdout",
     "output_type": "stream",
     "text": [
      "Three ways to get 100: 100 100 100\n"
     ]
    }
   ],
   "source": [
    "print(\"Three ways to get 100:\", method_1, method_2, method_3)"
   ]
  },
  {
   "cell_type": "code",
   "execution_count": 7,
   "id": "9a51c346-3de5-49ba-b099-9362904ef39d",
   "metadata": {},
   "outputs": [],
   "source": [
    "# Two floating-point variables divided by each other\n",
    "float_1 = 5.5\n",
    "float_2 = 2.2\n",
    "float_division = float_1 / float_2"
   ]
  },
  {
   "cell_type": "code",
   "execution_count": 8,
   "id": "abce3728-7011-4d08-98bd-f09452790f3d",
   "metadata": {},
   "outputs": [
    {
     "name": "stdout",
     "output_type": "stream",
     "text": [
      "Floating-point division: 2.5\n"
     ]
    }
   ],
   "source": [
    "print(\"Floating-point division:\", float_division)"
   ]
  },
  {
   "cell_type": "code",
   "execution_count": 9,
   "id": "39e92070-2e15-43c5-ac64-c32c28d90074",
   "metadata": {},
   "outputs": [],
   "source": [
    "# Constructing a short word using concatenation\n",
    "word = \"Py\" + \"thon\""
   ]
  },
  {
   "cell_type": "code",
   "execution_count": 11,
   "id": "061f33d5-edb8-4902-a1f4-52ea4c977625",
   "metadata": {},
   "outputs": [
    {
     "name": "stdout",
     "output_type": "stream",
     "text": [
      "Constructed word: Python\n"
     ]
    }
   ],
   "source": [
    "print(\"Constructed word:\", word)"
   ]
  },
  {
   "cell_type": "code",
   "execution_count": 12,
   "id": "8e52cb8b-6807-4b3f-ab2d-fc76c7c7ea7d",
   "metadata": {},
   "outputs": [],
   "source": [
    "# Constructing two short sentences using concatenation\n",
    "sentence_1 = \"Learning \" + \"Python is fun.\"\n",
    "sentence_2 = \"Data \" + \"science is powerful.\""
   ]
  },
  {
   "cell_type": "code",
   "execution_count": 13,
   "id": "616d7735-4bf6-40a0-86f5-7d4f5b03b428",
   "metadata": {},
   "outputs": [
    {
     "name": "stdout",
     "output_type": "stream",
     "text": [
      "Constructed sentences: Learning Python is fun. Data science is powerful.\n"
     ]
    }
   ],
   "source": [
    "print(\"Constructed sentences:\", sentence_1, sentence_2)"
   ]
  }
 ],
 "metadata": {
  "kernelspec": {
   "display_name": "Python [conda env:base] *",
   "language": "python",
   "name": "conda-base-py"
  },
  "language_info": {
   "codemirror_mode": {
    "name": "ipython",
    "version": 3
   },
   "file_extension": ".py",
   "mimetype": "text/x-python",
   "name": "python",
   "nbconvert_exporter": "python",
   "pygments_lexer": "ipython3",
   "version": "3.12.7"
  }
 },
 "nbformat": 4,
 "nbformat_minor": 5
}
