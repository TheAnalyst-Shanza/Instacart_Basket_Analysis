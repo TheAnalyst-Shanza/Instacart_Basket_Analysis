{
 "cells": [
  {
   "cell_type": "markdown",
   "id": "dff8be61-bc98-4924-8df6-f8a8a1afd779",
   "metadata": {},
   "source": [
    "# 4.10 Instacart Final Task"
   ]
  },
  {
   "cell_type": "markdown",
   "id": "09cde620-b90c-4835-b5b5-36b54094a672",
   "metadata": {},
   "source": [
    "## Contents"
   ]
  },
  {
   "cell_type": "markdown",
   "id": "4500c85d-e4a2-4b8b-9fed-2024f3ebd235",
   "metadata": {},
   "source": [
    " 1. Import Libraries and Dataframes\n",
    " 2. Create regional segmentation of data\n",
    " 3. Determine whether there’s a difference in spending habits between the different U.S. regions\n",
    " 4. Create an exclusion flag for low-activity customers\n",
    " 5. Customer profiling\n",
    " 6. Aggregate the max, mean, and min variables on a customer-profile level for usage frequency and expenditure\n",
    " 7. Compare customer profiles with regions and departments\n",
    " 8. Visualizations"
   ]
  },
  {
   "cell_type": "markdown",
   "id": "dd0a8b92-1b53-4b33-a459-927f772c1b63",
   "metadata": {},
   "source": [
    "### 1. Importing libraries and Dataframes:"
   ]
  },
  {
   "cell_type": "code",
   "execution_count": 6,
   "id": "bcb809df-57f3-419b-b58a-9bcdae2c1544",
   "metadata": {},
   "outputs": [],
   "source": [
    "# import Libraries\n",
    "import pandas as pd\n",
    "import numpy as np\n",
    "import os\n",
    "import matplotlib.pyplot as plt\n",
    "import seaborn as sns\n",
    "import scipy"
   ]
  },
  {
   "cell_type": "code",
   "execution_count": 12,
   "id": "6339c4bc-274f-44ad-a9b6-424a65cc14c9",
   "metadata": {},
   "outputs": [],
   "source": [
    "# assign path\n",
    "path = r'C:\\Users\\User\\Downloads\\MM-2020 Instacart Basket Analysis'"
   ]
  },
  {
   "cell_type": "code",
   "execution_count": 13,
   "id": "f1250a8f-f483-4b23-8f2d-4ebb953257f1",
   "metadata": {},
   "outputs": [],
   "source": [
    "# import dataframe\n",
    "ords_prods_cust = pd.read_pickle(os.path.join(path, 'Data', 'Prepared Data', 'orders_products_customers_merged.pkl'))"
   ]
  },
  {
   "cell_type": "markdown",
   "id": "153352c7-f685-4192-9879-3c0d13b32a29",
   "metadata": {},
   "source": [
    "### 2. Create regional segmentation of data:"
   ]
  },
  {
   "cell_type": "code",
   "execution_count": 14,
   "id": "534f0fb1-a0b5-4c9d-be2c-82072f887b38",
   "metadata": {},
   "outputs": [
    {
     "data": {
      "text/plain": [
       "Index(['Unnamed: 0', 'product_id', 'product_name', 'aisle_id', 'department_id',\n",
       "       'prices', 'order_id', 'user_id', 'order_number', 'order_dow',\n",
       "       'order_hour_of_day', 'days_since_prior_order', 'add_to_cart_order',\n",
       "       'reordered', 'price_range_loc', 'busiest_period_of_day', 'max_order',\n",
       "       'loyalty_flag', 'average_spend', 'spender_flag', 'Customer_frequency',\n",
       "       'frequency_flag', 'first_name', 'surname', 'gender', 'state', 'age',\n",
       "       'date_joined', 'n_dependants', 'marital_status', 'income', '_merge'],\n",
       "      dtype='object')"
      ]
     },
     "execution_count": 14,
     "metadata": {},
     "output_type": "execute_result"
    }
   ],
   "source": [
    "ords_prods_cust.columns"
   ]
  },
  {
   "cell_type": "code",
   "execution_count": 15,
   "id": "bae10631-7746-48e5-8be7-445d7bb12036",
   "metadata": {},
   "outputs": [
    {
     "data": {
      "text/html": [
       "<div>\n",
       "<style scoped>\n",
       "    .dataframe tbody tr th:only-of-type {\n",
       "        vertical-align: middle;\n",
       "    }\n",
       "\n",
       "    .dataframe tbody tr th {\n",
       "        vertical-align: top;\n",
       "    }\n",
       "\n",
       "    .dataframe thead th {\n",
       "        text-align: right;\n",
       "    }\n",
       "</style>\n",
       "<table border=\"1\" class=\"dataframe\">\n",
       "  <thead>\n",
       "    <tr style=\"text-align: right;\">\n",
       "      <th></th>\n",
       "      <th>Unnamed: 0</th>\n",
       "      <th>product_id</th>\n",
       "      <th>product_name</th>\n",
       "      <th>aisle_id</th>\n",
       "      <th>department_id</th>\n",
       "      <th>prices</th>\n",
       "      <th>order_id</th>\n",
       "      <th>user_id</th>\n",
       "      <th>order_number</th>\n",
       "      <th>order_dow</th>\n",
       "      <th>...</th>\n",
       "      <th>first_name</th>\n",
       "      <th>surname</th>\n",
       "      <th>gender</th>\n",
       "      <th>state</th>\n",
       "      <th>age</th>\n",
       "      <th>date_joined</th>\n",
       "      <th>n_dependants</th>\n",
       "      <th>marital_status</th>\n",
       "      <th>income</th>\n",
       "      <th>_merge</th>\n",
       "    </tr>\n",
       "  </thead>\n",
       "  <tbody>\n",
       "    <tr>\n",
       "      <th>0</th>\n",
       "      <td>0</td>\n",
       "      <td>1</td>\n",
       "      <td>Chocolate Sandwich Cookies</td>\n",
       "      <td>61</td>\n",
       "      <td>19</td>\n",
       "      <td>5.8</td>\n",
       "      <td>3139998</td>\n",
       "      <td>138</td>\n",
       "      <td>28</td>\n",
       "      <td>6</td>\n",
       "      <td>...</td>\n",
       "      <td>Charles</td>\n",
       "      <td>Cox</td>\n",
       "      <td>Male</td>\n",
       "      <td>Minnesota</td>\n",
       "      <td>81</td>\n",
       "      <td>8/1/2019</td>\n",
       "      <td>1</td>\n",
       "      <td>married</td>\n",
       "      <td>49620</td>\n",
       "      <td>both</td>\n",
       "    </tr>\n",
       "    <tr>\n",
       "      <th>1</th>\n",
       "      <td>1</td>\n",
       "      <td>1</td>\n",
       "      <td>Chocolate Sandwich Cookies</td>\n",
       "      <td>61</td>\n",
       "      <td>19</td>\n",
       "      <td>5.8</td>\n",
       "      <td>1977647</td>\n",
       "      <td>138</td>\n",
       "      <td>30</td>\n",
       "      <td>6</td>\n",
       "      <td>...</td>\n",
       "      <td>Charles</td>\n",
       "      <td>Cox</td>\n",
       "      <td>Male</td>\n",
       "      <td>Minnesota</td>\n",
       "      <td>81</td>\n",
       "      <td>8/1/2019</td>\n",
       "      <td>1</td>\n",
       "      <td>married</td>\n",
       "      <td>49620</td>\n",
       "      <td>both</td>\n",
       "    </tr>\n",
       "    <tr>\n",
       "      <th>2</th>\n",
       "      <td>2</td>\n",
       "      <td>1</td>\n",
       "      <td>Chocolate Sandwich Cookies</td>\n",
       "      <td>61</td>\n",
       "      <td>19</td>\n",
       "      <td>5.8</td>\n",
       "      <td>389851</td>\n",
       "      <td>709</td>\n",
       "      <td>2</td>\n",
       "      <td>0</td>\n",
       "      <td>...</td>\n",
       "      <td>Deborah</td>\n",
       "      <td>Glass</td>\n",
       "      <td>Female</td>\n",
       "      <td>Vermont</td>\n",
       "      <td>66</td>\n",
       "      <td>6/16/2018</td>\n",
       "      <td>2</td>\n",
       "      <td>married</td>\n",
       "      <td>158302</td>\n",
       "      <td>both</td>\n",
       "    </tr>\n",
       "    <tr>\n",
       "      <th>3</th>\n",
       "      <td>3</td>\n",
       "      <td>1</td>\n",
       "      <td>Chocolate Sandwich Cookies</td>\n",
       "      <td>61</td>\n",
       "      <td>19</td>\n",
       "      <td>5.8</td>\n",
       "      <td>652770</td>\n",
       "      <td>764</td>\n",
       "      <td>1</td>\n",
       "      <td>3</td>\n",
       "      <td>...</td>\n",
       "      <td>Heather</td>\n",
       "      <td>Myers</td>\n",
       "      <td>Female</td>\n",
       "      <td>Wisconsin</td>\n",
       "      <td>40</td>\n",
       "      <td>2/9/2020</td>\n",
       "      <td>3</td>\n",
       "      <td>married</td>\n",
       "      <td>31308</td>\n",
       "      <td>both</td>\n",
       "    </tr>\n",
       "    <tr>\n",
       "      <th>4</th>\n",
       "      <td>4</td>\n",
       "      <td>1</td>\n",
       "      <td>Chocolate Sandwich Cookies</td>\n",
       "      <td>61</td>\n",
       "      <td>19</td>\n",
       "      <td>5.8</td>\n",
       "      <td>1813452</td>\n",
       "      <td>764</td>\n",
       "      <td>3</td>\n",
       "      <td>4</td>\n",
       "      <td>...</td>\n",
       "      <td>Heather</td>\n",
       "      <td>Myers</td>\n",
       "      <td>Female</td>\n",
       "      <td>Wisconsin</td>\n",
       "      <td>40</td>\n",
       "      <td>2/9/2020</td>\n",
       "      <td>3</td>\n",
       "      <td>married</td>\n",
       "      <td>31308</td>\n",
       "      <td>both</td>\n",
       "    </tr>\n",
       "  </tbody>\n",
       "</table>\n",
       "<p>5 rows × 32 columns</p>\n",
       "</div>"
      ],
      "text/plain": [
       "   Unnamed: 0  product_id                product_name  aisle_id  \\\n",
       "0           0           1  Chocolate Sandwich Cookies        61   \n",
       "1           1           1  Chocolate Sandwich Cookies        61   \n",
       "2           2           1  Chocolate Sandwich Cookies        61   \n",
       "3           3           1  Chocolate Sandwich Cookies        61   \n",
       "4           4           1  Chocolate Sandwich Cookies        61   \n",
       "\n",
       "   department_id  prices  order_id user_id  order_number  order_dow  ...  \\\n",
       "0             19     5.8   3139998     138            28          6  ...   \n",
       "1             19     5.8   1977647     138            30          6  ...   \n",
       "2             19     5.8    389851     709             2          0  ...   \n",
       "3             19     5.8    652770     764             1          3  ...   \n",
       "4             19     5.8   1813452     764             3          4  ...   \n",
       "\n",
       "   first_name  surname  gender      state age date_joined  n_dependants  \\\n",
       "0     Charles      Cox    Male  Minnesota  81    8/1/2019             1   \n",
       "1     Charles      Cox    Male  Minnesota  81    8/1/2019             1   \n",
       "2     Deborah    Glass  Female    Vermont  66   6/16/2018             2   \n",
       "3     Heather    Myers  Female  Wisconsin  40    2/9/2020             3   \n",
       "4     Heather    Myers  Female  Wisconsin  40    2/9/2020             3   \n",
       "\n",
       "  marital_status  income _merge  \n",
       "0        married   49620   both  \n",
       "1        married   49620   both  \n",
       "2        married  158302   both  \n",
       "3        married   31308   both  \n",
       "4        married   31308   both  \n",
       "\n",
       "[5 rows x 32 columns]"
      ]
     },
     "execution_count": 15,
     "metadata": {},
     "output_type": "execute_result"
    }
   ],
   "source": [
    "ords_prods_cust.head()"
   ]
  },
  {
   "cell_type": "code",
   "execution_count": 16,
   "id": "3ba2da5d-0818-4039-b31d-fde5292b59c4",
   "metadata": {},
   "outputs": [],
   "source": [
    "# Assign Northeast Region\n",
    "ords_prods_cust.loc[ords_prods_cust['state'] == 'Maine', 'region'] = 'Northeast'\n",
    "ords_prods_cust.loc[ords_prods_cust['state'] == 'New Hampshire', 'region'] = 'Northeast'\n",
    "ords_prods_cust.loc[ords_prods_cust['state'] == 'Vermont', 'region'] = 'Northeast'\n",
    "ords_prods_cust.loc[ords_prods_cust['state'] == 'Pennsylvania', 'region'] = 'Northeast'\n",
    "ords_prods_cust.loc[ords_prods_cust['state'] == 'Massachusetts', 'region'] = 'Northeast'\n",
    "ords_prods_cust.loc[ords_prods_cust['state'] == 'Rhode Island', 'region'] = 'Northeast'\n",
    "ords_prods_cust.loc[ords_prods_cust['state'] == 'Connecticut', 'region'] = 'Northeast'"
   ]
  },
  {
   "cell_type": "code",
   "execution_count": 17,
   "id": "fa67b812-20cd-4d63-9e68-2d5c3646775b",
   "metadata": {},
   "outputs": [],
   "source": [
    "# Assign Midwest Region\n",
    "ords_prods_cust.loc[ords_prods_cust['state'] == 'Wisconsin', 'region'] = 'Midwest'\n",
    "ords_prods_cust.loc[ords_prods_cust['state'] == 'Michigan', 'region'] = 'Midwest'\n",
    "ords_prods_cust.loc[ords_prods_cust['state'] == 'Illinois', 'region'] = 'Midwest'\n",
    "ords_prods_cust.loc[ords_prods_cust['state'] == 'Indiana', 'region'] = 'Midwest'\n",
    "ords_prods_cust.loc[ords_prods_cust['state'] == 'Ohio', 'region'] = 'Midwest'"
   ]
  },
  {
   "cell_type": "code",
   "execution_count": 18,
   "id": "f744c32c-97ff-429d-b162-fdd8ba8d9f1f",
   "metadata": {},
   "outputs": [],
   "source": [
    "# Assign Midwest Region2\n",
    "ords_prods_cust.loc[ords_prods_cust['state'] == 'North Dakota', 'region'] = 'Midwest'\n",
    "ords_prods_cust.loc[ords_prods_cust['state'] == 'South Dakota', 'region'] = 'Midwest'\n",
    "ords_prods_cust.loc[ords_prods_cust['state'] == 'Nebraska', 'region'] = 'Midwest'\n",
    "ords_prods_cust.loc[ords_prods_cust['state'] == 'Kansas', 'region'] = 'Midwest'\n",
    "ords_prods_cust.loc[ords_prods_cust['state'] == 'Minnesota', 'region'] = 'Midwest'\n",
    "ords_prods_cust.loc[ords_prods_cust['state'] == 'Iowa', 'region'] = 'Midwest'\n",
    "ords_prods_cust.loc[ords_prods_cust['state'] == 'Missouri', 'region'] = 'Midwest'"
   ]
  },
  {
   "cell_type": "code",
   "execution_count": 19,
   "id": "0e2887c7-106c-4a7b-9674-3203f9cad556",
   "metadata": {},
   "outputs": [],
   "source": [
    "# Assign South Region\n",
    "ords_prods_cust.loc[ords_prods_cust['state'] == 'Delaware', 'region'] = 'South'\n",
    "ords_prods_cust.loc[ords_prods_cust['state'] == 'Maryland', 'region'] = 'South'\n",
    "ords_prods_cust.loc[ords_prods_cust['state'] == 'District of Columbia', 'region'] = 'South'\n",
    "ords_prods_cust.loc[ords_prods_cust['state'] == 'Virginia', 'region'] = 'South'\n",
    "ords_prods_cust.loc[ords_prods_cust['state'] == 'West Virginia', 'region'] = 'South'\n",
    "ords_prods_cust.loc[ords_prods_cust['state'] == 'North Carolina', 'region'] = 'South'\n",
    "ords_prods_cust.loc[ords_prods_cust['state'] == 'South Carolina', 'region'] = 'South'\n",
    "ords_prods_cust.loc[ords_prods_cust['state'] == 'Georgia', 'region'] = 'South'\n",
    "ords_prods_cust.loc[ords_prods_cust['state'] == 'Florida', 'region'] = 'South'"
   ]
  },
  {
   "cell_type": "code",
   "execution_count": 20,
   "id": "6b6f52cf-02a2-4cca-be32-b4f945f58166",
   "metadata": {},
   "outputs": [],
   "source": [
    "# Assign South Region2\n",
    "ords_prods_cust.loc[ords_prods_cust['state'] == 'Kentucky', 'region'] = 'South'\n",
    "ords_prods_cust.loc[ords_prods_cust['state'] == 'Tennessee', 'region'] = 'South'\n",
    "ords_prods_cust.loc[ords_prods_cust['state'] == 'Mississippi', 'region'] = 'South'\n",
    "ords_prods_cust.loc[ords_prods_cust['state'] == 'Alabama', 'region'] = 'South'"
   ]
  },
  {
   "cell_type": "code",
   "execution_count": 21,
   "id": "406a6d4f-091f-4a0c-b3c2-d4d5a6ea750a",
   "metadata": {},
   "outputs": [],
   "source": [
    "# Assign South Region3\n",
    "ords_prods_cust.loc[ords_prods_cust['state'] == 'Oklahoma', 'region'] = 'South'\n",
    "ords_prods_cust.loc[ords_prods_cust['state'] == 'Texas', 'region'] = 'South'\n",
    "ords_prods_cust.loc[ords_prods_cust['state'] == 'Arkansas', 'region'] = 'South'\n",
    "ords_prods_cust.loc[ords_prods_cust['state'] == 'Louisiana', 'region'] = 'South'"
   ]
  },
  {
   "cell_type": "code",
   "execution_count": 22,
   "id": "27e5344c-0a3e-43b3-95d2-1f3e04b1837f",
   "metadata": {},
   "outputs": [],
   "source": [
    "# Assign West Region\n",
    "ords_prods_cust.loc[ords_prods_cust['state'] == 'Idaho', 'region'] = 'West'\n",
    "ords_prods_cust.loc[ords_prods_cust['state'] == 'Montana', 'region'] = 'West'\n",
    "ords_prods_cust.loc[ords_prods_cust['state'] == 'Wyoming', 'region'] = 'West'\n",
    "ords_prods_cust.loc[ords_prods_cust['state'] == 'Nevada', 'region'] = 'West'\n",
    "ords_prods_cust.loc[ords_prods_cust['state'] == 'Utah', 'region'] = 'West'\n",
    "ords_prods_cust.loc[ords_prods_cust['state'] == 'Colorado', 'region'] = 'West'\n",
    "ords_prods_cust.loc[ords_prods_cust['state'] == 'Arizona', 'region'] = 'West'\n",
    "ords_prods_cust.loc[ords_prods_cust['state'] == 'New Mexico', 'region'] = 'West'"
   ]
  },
  {
   "cell_type": "code",
   "execution_count": 23,
   "id": "0f6199b7-8d98-44a2-ac2b-a0b1b040a76d",
   "metadata": {},
   "outputs": [],
   "source": [
    "# Assign West Region2\n",
    "ords_prods_cust.loc[ords_prods_cust['state'] == 'Alaska', 'region'] = 'West'\n",
    "ords_prods_cust.loc[ords_prods_cust['state'] == 'Washington', 'region'] = 'West'\n",
    "ords_prods_cust.loc[ords_prods_cust['state'] == 'Oregon', 'region'] = 'West'\n",
    "ords_prods_cust.loc[ords_prods_cust['state'] == 'California', 'region'] = 'West'\n",
    "ords_prods_cust.loc[ords_prods_cust['state'] == 'Hawaii', 'region'] = 'West'"
   ]
  },
  {
   "cell_type": "code",
   "execution_count": 24,
   "id": "f796cb94-f34f-4775-9e0c-747e83ed86be",
   "metadata": {},
   "outputs": [
    {
     "data": {
      "text/html": [
       "<div>\n",
       "<style scoped>\n",
       "    .dataframe tbody tr th:only-of-type {\n",
       "        vertical-align: middle;\n",
       "    }\n",
       "\n",
       "    .dataframe tbody tr th {\n",
       "        vertical-align: top;\n",
       "    }\n",
       "\n",
       "    .dataframe thead th {\n",
       "        text-align: right;\n",
       "    }\n",
       "</style>\n",
       "<table border=\"1\" class=\"dataframe\">\n",
       "  <thead>\n",
       "    <tr style=\"text-align: right;\">\n",
       "      <th></th>\n",
       "      <th>Unnamed: 0</th>\n",
       "      <th>product_id</th>\n",
       "      <th>product_name</th>\n",
       "      <th>aisle_id</th>\n",
       "      <th>department_id</th>\n",
       "      <th>prices</th>\n",
       "      <th>order_id</th>\n",
       "      <th>user_id</th>\n",
       "      <th>order_number</th>\n",
       "      <th>order_dow</th>\n",
       "      <th>...</th>\n",
       "      <th>surname</th>\n",
       "      <th>gender</th>\n",
       "      <th>state</th>\n",
       "      <th>age</th>\n",
       "      <th>date_joined</th>\n",
       "      <th>n_dependants</th>\n",
       "      <th>marital_status</th>\n",
       "      <th>income</th>\n",
       "      <th>_merge</th>\n",
       "      <th>region</th>\n",
       "    </tr>\n",
       "  </thead>\n",
       "  <tbody>\n",
       "    <tr>\n",
       "      <th>0</th>\n",
       "      <td>0</td>\n",
       "      <td>1</td>\n",
       "      <td>Chocolate Sandwich Cookies</td>\n",
       "      <td>61</td>\n",
       "      <td>19</td>\n",
       "      <td>5.8</td>\n",
       "      <td>3139998</td>\n",
       "      <td>138</td>\n",
       "      <td>28</td>\n",
       "      <td>6</td>\n",
       "      <td>...</td>\n",
       "      <td>Cox</td>\n",
       "      <td>Male</td>\n",
       "      <td>Minnesota</td>\n",
       "      <td>81</td>\n",
       "      <td>8/1/2019</td>\n",
       "      <td>1</td>\n",
       "      <td>married</td>\n",
       "      <td>49620</td>\n",
       "      <td>both</td>\n",
       "      <td>Midwest</td>\n",
       "    </tr>\n",
       "    <tr>\n",
       "      <th>1</th>\n",
       "      <td>1</td>\n",
       "      <td>1</td>\n",
       "      <td>Chocolate Sandwich Cookies</td>\n",
       "      <td>61</td>\n",
       "      <td>19</td>\n",
       "      <td>5.8</td>\n",
       "      <td>1977647</td>\n",
       "      <td>138</td>\n",
       "      <td>30</td>\n",
       "      <td>6</td>\n",
       "      <td>...</td>\n",
       "      <td>Cox</td>\n",
       "      <td>Male</td>\n",
       "      <td>Minnesota</td>\n",
       "      <td>81</td>\n",
       "      <td>8/1/2019</td>\n",
       "      <td>1</td>\n",
       "      <td>married</td>\n",
       "      <td>49620</td>\n",
       "      <td>both</td>\n",
       "      <td>Midwest</td>\n",
       "    </tr>\n",
       "    <tr>\n",
       "      <th>2</th>\n",
       "      <td>2</td>\n",
       "      <td>1</td>\n",
       "      <td>Chocolate Sandwich Cookies</td>\n",
       "      <td>61</td>\n",
       "      <td>19</td>\n",
       "      <td>5.8</td>\n",
       "      <td>389851</td>\n",
       "      <td>709</td>\n",
       "      <td>2</td>\n",
       "      <td>0</td>\n",
       "      <td>...</td>\n",
       "      <td>Glass</td>\n",
       "      <td>Female</td>\n",
       "      <td>Vermont</td>\n",
       "      <td>66</td>\n",
       "      <td>6/16/2018</td>\n",
       "      <td>2</td>\n",
       "      <td>married</td>\n",
       "      <td>158302</td>\n",
       "      <td>both</td>\n",
       "      <td>Northeast</td>\n",
       "    </tr>\n",
       "    <tr>\n",
       "      <th>3</th>\n",
       "      <td>3</td>\n",
       "      <td>1</td>\n",
       "      <td>Chocolate Sandwich Cookies</td>\n",
       "      <td>61</td>\n",
       "      <td>19</td>\n",
       "      <td>5.8</td>\n",
       "      <td>652770</td>\n",
       "      <td>764</td>\n",
       "      <td>1</td>\n",
       "      <td>3</td>\n",
       "      <td>...</td>\n",
       "      <td>Myers</td>\n",
       "      <td>Female</td>\n",
       "      <td>Wisconsin</td>\n",
       "      <td>40</td>\n",
       "      <td>2/9/2020</td>\n",
       "      <td>3</td>\n",
       "      <td>married</td>\n",
       "      <td>31308</td>\n",
       "      <td>both</td>\n",
       "      <td>Midwest</td>\n",
       "    </tr>\n",
       "    <tr>\n",
       "      <th>4</th>\n",
       "      <td>4</td>\n",
       "      <td>1</td>\n",
       "      <td>Chocolate Sandwich Cookies</td>\n",
       "      <td>61</td>\n",
       "      <td>19</td>\n",
       "      <td>5.8</td>\n",
       "      <td>1813452</td>\n",
       "      <td>764</td>\n",
       "      <td>3</td>\n",
       "      <td>4</td>\n",
       "      <td>...</td>\n",
       "      <td>Myers</td>\n",
       "      <td>Female</td>\n",
       "      <td>Wisconsin</td>\n",
       "      <td>40</td>\n",
       "      <td>2/9/2020</td>\n",
       "      <td>3</td>\n",
       "      <td>married</td>\n",
       "      <td>31308</td>\n",
       "      <td>both</td>\n",
       "      <td>Midwest</td>\n",
       "    </tr>\n",
       "  </tbody>\n",
       "</table>\n",
       "<p>5 rows × 33 columns</p>\n",
       "</div>"
      ],
      "text/plain": [
       "   Unnamed: 0  product_id                product_name  aisle_id  \\\n",
       "0           0           1  Chocolate Sandwich Cookies        61   \n",
       "1           1           1  Chocolate Sandwich Cookies        61   \n",
       "2           2           1  Chocolate Sandwich Cookies        61   \n",
       "3           3           1  Chocolate Sandwich Cookies        61   \n",
       "4           4           1  Chocolate Sandwich Cookies        61   \n",
       "\n",
       "   department_id  prices  order_id user_id  order_number  order_dow  ...  \\\n",
       "0             19     5.8   3139998     138            28          6  ...   \n",
       "1             19     5.8   1977647     138            30          6  ...   \n",
       "2             19     5.8    389851     709             2          0  ...   \n",
       "3             19     5.8    652770     764             1          3  ...   \n",
       "4             19     5.8   1813452     764             3          4  ...   \n",
       "\n",
       "   surname  gender      state  age date_joined n_dependants  marital_status  \\\n",
       "0      Cox    Male  Minnesota   81    8/1/2019            1         married   \n",
       "1      Cox    Male  Minnesota   81    8/1/2019            1         married   \n",
       "2    Glass  Female    Vermont   66   6/16/2018            2         married   \n",
       "3    Myers  Female  Wisconsin   40    2/9/2020            3         married   \n",
       "4    Myers  Female  Wisconsin   40    2/9/2020            3         married   \n",
       "\n",
       "   income  _merge     region  \n",
       "0   49620    both    Midwest  \n",
       "1   49620    both    Midwest  \n",
       "2  158302    both  Northeast  \n",
       "3   31308    both    Midwest  \n",
       "4   31308    both    Midwest  \n",
       "\n",
       "[5 rows x 33 columns]"
      ]
     },
     "execution_count": 24,
     "metadata": {},
     "output_type": "execute_result"
    }
   ],
   "source": [
    "ords_prods_cust.head()"
   ]
  },
  {
   "cell_type": "markdown",
   "id": "8da9338c-1af8-4828-8500-dde8982afd85",
   "metadata": {},
   "source": [
    "### 3. Determine whether there’s a difference in spending habits between the different U.S. regions: "
   ]
  },
  {
   "cell_type": "code",
   "execution_count": 25,
   "id": "799615b5-729e-44ca-ab3b-5420b325502f",
   "metadata": {},
   "outputs": [],
   "source": [
    "# Crosstab Region to spending flag\n",
    "crosstab = pd.crosstab(ords_prods_cust['region'], ords_prods_cust['spender_flag'], dropna = False)"
   ]
  },
  {
   "cell_type": "code",
   "execution_count": 26,
   "id": "cc8477e5-8d80-4ef0-9dd1-10d1baa17d21",
   "metadata": {},
   "outputs": [],
   "source": [
    "crosstab.to_clipboard()"
   ]
  },
  {
   "cell_type": "code",
   "execution_count": 27,
   "id": "f118defa-851f-43c5-80c5-73137f62c94b",
   "metadata": {},
   "outputs": [],
   "source": [
    "# save changes to ords_prods_cust\n",
    "ords_prods_cust.to_pickle(os.path.join(path, 'Data','Prepared Data', 'orders_products_customers_merged.pkl'))"
   ]
  },
  {
   "cell_type": "markdown",
   "id": "5a429660-825e-4f9b-bfa9-29b10463cc02",
   "metadata": {},
   "source": [
    "### 4. Create an exclusion flag for low-activity customers (Customers with less than 5 orders):"
   ]
  },
  {
   "cell_type": "code",
   "execution_count": 28,
   "id": "da07a19c-b7f9-4e50-a285-759b8ff28152",
   "metadata": {},
   "outputs": [],
   "source": [
    "# Create a flag for customers with less than 5 orders\n",
    "ords_prods_cust.loc[ords_prods_cust['max_order'] < 5, 'activity_flag'] = 'low-activity customer'\n",
    "ords_prods_cust.loc[ords_prods_cust['max_order'] >= 5, 'activity_flag'] = 'high-activity customer'"
   ]
  },
  {
   "cell_type": "code",
   "execution_count": 29,
   "id": "792ef38d-f251-4ee4-9295-23e25a7a5eef",
   "metadata": {},
   "outputs": [
    {
     "data": {
      "text/plain": [
       "activity_flag\n",
       "high-activity customer    15342287\n",
       "low-activity customer       721107\n",
       "Name: count, dtype: int64"
      ]
     },
     "execution_count": 29,
     "metadata": {},
     "output_type": "execute_result"
    }
   ],
   "source": [
    "ords_prods_cust['activity_flag'].value_counts(dropna = False)"
   ]
  },
  {
   "cell_type": "code",
   "execution_count": 30,
   "id": "c987efd2-b78f-401c-918a-c77e7d97d660",
   "metadata": {},
   "outputs": [],
   "source": [
    "# Exclude low-activity customers from the dataframe\n",
    "df_excluded = ords_prods_cust[ords_prods_cust['activity_flag'] != 'low-activity customer']"
   ]
  },
  {
   "cell_type": "code",
   "execution_count": 31,
   "id": "a6e2f438-b71a-405a-a83d-f37b663b5d07",
   "metadata": {},
   "outputs": [],
   "source": [
    "# Export the new dataframe\n",
    "df_excluded.to_pickle(os.path.join(path, 'Data','Prepared Data', 'low_activity_excluded.pkl'))"
   ]
  },
  {
   "cell_type": "markdown",
   "id": "303bcd80-7c11-4fdf-9646-1f95101ba164",
   "metadata": {},
   "source": [
    "### 5. Customer profiling variable based on age, income, certain goods in the “department_id” column, and number of dependents.You might also use the “orders_day_of_week” and “order_hour_of_day” columns if you can think of a way they would impact customer profiles. Then create images:"
   ]
  },
  {
   "cell_type": "markdown",
   "id": "91f50ab0-c0b9-4eec-b86c-43f6523c94e4",
   "metadata": {},
   "source": [
    "#### Income:"
   ]
  },
  {
   "cell_type": "code",
   "execution_count": 32,
   "id": "39790b03-8293-44f7-b074-1dc4d3a1030c",
   "metadata": {},
   "outputs": [
    {
     "name": "stderr",
     "output_type": "stream",
     "text": [
      "C:\\Users\\User\\AppData\\Local\\Temp\\ipykernel_3776\\1030381792.py:2: SettingWithCopyWarning: \n",
      "A value is trying to be set on a copy of a slice from a DataFrame.\n",
      "Try using .loc[row_indexer,col_indexer] = value instead\n",
      "\n",
      "See the caveats in the documentation: https://pandas.pydata.org/pandas-docs/stable/user_guide/indexing.html#returning-a-view-versus-a-copy\n",
      "  df_excluded.loc[df_excluded['income'] <= 55000, 'income_group'] = 'low-income'\n"
     ]
    }
   ],
   "source": [
    "# Create an income group variable\n",
    "df_excluded.loc[df_excluded['income'] <= 55000, 'income_group'] = 'low-income'\n",
    "df_excluded.loc[(df_excluded['income'] > 55000) & (df_excluded['income'] <= 150000), 'income_group'] = 'middle-income'\n",
    "df_excluded.loc[df_excluded['income'] > 150000, 'income_group'] = 'high-income'"
   ]
  },
  {
   "cell_type": "code",
   "execution_count": 33,
   "id": "e3d215a8-0ee7-409a-9e3b-81d48cecafb2",
   "metadata": {},
   "outputs": [
    {
     "data": {
      "text/plain": [
       "income_group\n",
       "middle-income    11185253\n",
       "low-income        2230519\n",
       "high-income       1926515\n",
       "Name: count, dtype: int64"
      ]
     },
     "execution_count": 33,
     "metadata": {},
     "output_type": "execute_result"
    }
   ],
   "source": [
    "# Check the counts of income groups\n",
    "df_excluded['income_group'].value_counts(dropna = False)"
   ]
  },
  {
   "cell_type": "code",
   "execution_count": 34,
   "id": "76106e86-6ba1-4aa4-8170-50be59987049",
   "metadata": {},
   "outputs": [
    {
     "data": {
      "image/png": "[encoded data removed]",
      "text/plain": [
       "<Figure size 640x480 with 1 Axes>"
      ]
     },
     "metadata": {},
     "output_type": "display_data"
    }
   ],
   "source": [
    "# Make a bar chart showing the distribution of income groups\n",
    "income_group_counts = df_excluded['income_group'].value_counts(dropna=False)\n",
    "income_group_distribution_bar = income_group_counts.plot.bar()  \n",
    "plt.title('Distribution of Income Groups')\n",
    "plt.xlabel('')\n",
    "plt.ylabel('Count')\n",
    "plt.show()"
   ]
  },
  {
   "cell_type": "code",
   "execution_count": 36,
   "id": "4d653b36-7fe3-4f15-943d-5ad57f3efce0",
   "metadata": {},
   "outputs": [],
   "source": [
    "# Export the bar chart\n",
    "income_group_distribution_bar.figure.savefig(os.path.join(path, 'Analysis','Visualizations', 'income_distribution_bar.png'))"
   ]
  },
  {
   "cell_type": "markdown",
   "id": "9c5ec598-7011-4bdd-a94b-57f7462a1664",
   "metadata": {},
   "source": [
    "#### Age:"
   ]
  },
  {
   "cell_type": "code",
   "execution_count": 37,
   "id": "f7c229ae-cefc-4520-871b-94a7ec7a2a22",
   "metadata": {},
   "outputs": [
    {
     "name": "stderr",
     "output_type": "stream",
     "text": [
      "C:\\Users\\User\\AppData\\Local\\Temp\\ipykernel_3776\\2854730798.py:2: SettingWithCopyWarning: \n",
      "A value is trying to be set on a copy of a slice from a DataFrame.\n",
      "Try using .loc[row_indexer,col_indexer] = value instead\n",
      "\n",
      "See the caveats in the documentation: https://pandas.pydata.org/pandas-docs/stable/user_guide/indexing.html#returning-a-view-versus-a-copy\n",
      "  df_excluded.loc[df_excluded['age'] <= 25, 'age_group'] = 'young adult'\n"
     ]
    }
   ],
   "source": [
    "# Create an age group variable\n",
    "df_excluded.loc[df_excluded['age'] <= 25, 'age_group'] = 'young adult'\n",
    "df_excluded.loc[(df_excluded['age'] > 25) & (df_excluded['age'] <= 44), 'age_group'] = 'adult'\n",
    "df_excluded.loc[(df_excluded['age'] > 44) & (df_excluded['age'] <= 64), 'age_group'] = 'middle-aged'\n",
    "df_excluded.loc[df_excluded['age'] > 64, 'age_group'] = 'senior'"
   ]
  },
  {
   "cell_type": "code",
   "execution_count": 38,
   "id": "6c2b2ef2-9fec-4573-97c3-02dc1f51b485",
   "metadata": {},
   "outputs": [
    {
     "data": {
      "text/plain": [
       "age_group\n",
       "middle-aged    4794149\n",
       "adult          4564750\n",
       "senior         4063574\n",
       "young adult    1919814\n",
       "Name: count, dtype: int64"
      ]
     },
     "execution_count": 38,
     "metadata": {},
     "output_type": "execute_result"
    }
   ],
   "source": [
    "# Check value counts for each age group\n",
    "age_group_counts = df_excluded['age_group'].value_counts(dropna = False)\n",
    "age_group_counts"
   ]
  },
  {
   "cell_type": "code",
   "execution_count": 39,
   "id": "07f174bf-6a20-40bb-adb2-49032d2e4973",
   "metadata": {},
   "outputs": [
    {
     "data": {
      "image/png": "[encoded data removed]",
      "text/plain": [
       "<Figure size 640x480 with 1 Axes>"
      ]
     },
     "metadata": {},
     "output_type": "display_data"
    }
   ],
   "source": [
    "# Make a pie chart showing the distribution of age groups\n",
    "age_group_distribution_pie = age_group_counts.plot.pie(autopct='%1.1f%%', labels= ['middle-aged: 45-64 years', 'adult: 26-44 years', 'senior: 65+ years', 'young adult: up to 25 years'], startangle=90, colors=['#ff9999','#66b3ff','#99ff99','#ffcc99'])\n",
    "plt.ylabel('')  # Hide the y-label\n",
    "plt.title('Distribution of Age Groups')\n",
    "plt.show()"
   ]
  },
  {
   "cell_type": "code",
   "execution_count": 40,
   "id": "d8201bce-783f-416b-bb7c-7c7f5be19ae1",
   "metadata": {},
   "outputs": [],
   "source": [
    "# Export chart\n",
    "age_group_distribution_pie.figure.savefig(os.path.join(path, 'Analysis','Visualizations', 'age_group_distribution_pie.png'))"
   ]
  },
  {
   "cell_type": "markdown",
   "id": "cc89cb52-516e-45f0-912d-f4007e8b2e06",
   "metadata": {},
   "source": [
    "#### Dependants:"
   ]
  },
  {
   "cell_type": "code",
   "execution_count": 41,
   "id": "5fee1035-5088-4ac7-8585-f37eb8a4f101",
   "metadata": {},
   "outputs": [
    {
     "name": "stderr",
     "output_type": "stream",
     "text": [
      "C:\\Users\\User\\AppData\\Local\\Temp\\ipykernel_3776\\2552754020.py:2: SettingWithCopyWarning: \n",
      "A value is trying to be set on a copy of a slice from a DataFrame.\n",
      "Try using .loc[row_indexer,col_indexer] = value instead\n",
      "\n",
      "See the caveats in the documentation: https://pandas.pydata.org/pandas-docs/stable/user_guide/indexing.html#returning-a-view-versus-a-copy\n",
      "  df_excluded.loc[df_excluded['n_dependants'] == 0, 'dependants_flag'] = 'no dependants'\n"
     ]
    }
   ],
   "source": [
    "# Create a dependents flag\n",
    "df_excluded.loc[df_excluded['n_dependants'] == 0, 'dependants_flag'] = 'no dependants'\n",
    "df_excluded.loc[df_excluded['n_dependants'] >= 1, 'dependants_flag'] = 'has dependants'"
   ]
  },
  {
   "cell_type": "code",
   "execution_count": 42,
   "id": "e39c8026-4994-45e7-8b16-7313df5794e3",
   "metadata": {},
   "outputs": [
    {
     "data": {
      "text/plain": [
       "dependants_flag\n",
       "has dependants    11506233\n",
       "no dependants      3836054\n",
       "Name: count, dtype: int64"
      ]
     },
     "execution_count": 42,
     "metadata": {},
     "output_type": "execute_result"
    }
   ],
   "source": [
    "# Check value counts\n",
    "dependant_counts = df_excluded['dependants_flag'].value_counts(dropna = False)\n",
    "dependant_counts"
   ]
  },
  {
   "cell_type": "code",
   "execution_count": 43,
   "id": "ee9de0c6-7286-44c8-be5e-bd89829b0fa6",
   "metadata": {},
   "outputs": [
    {
     "data": {
      "image/png": "[encoded data removed]",
      "text/plain": [
       "<Figure size 640x480 with 1 Axes>"
      ]
     },
     "metadata": {},
     "output_type": "display_data"
    }
   ],
   "source": [
    "# Make a pie chart showing the percentage of dependants\n",
    "dependants_pie = dependant_counts.plot.pie(autopct='%1.1f%%', labels= ['has dependants', 'no dependants'], startangle=90, colors=['#ff9999','#66b3ff'])\n",
    "plt.ylabel('')  # Hide the y-label\n",
    "plt.title('Percentage Having Dependants')\n",
    "plt.show()"
   ]
  },
  {
   "cell_type": "code",
   "execution_count": 44,
   "id": "dfc13a4f-300c-4ba5-89ce-26dbad062e5a",
   "metadata": {},
   "outputs": [],
   "source": [
    "# Export the new dataframe\n",
    "df_excluded.to_pickle(os.path.join(path, 'Data','Prepared Data', 'low_activity_excluded.pkl'))"
   ]
  },
  {
   "cell_type": "code",
   "execution_count": null,
   "id": "cce89906-35e4-40b1-a585-6503713fa323",
   "metadata": {},
   "outputs": [],
   "source": [
    "# import dataframe\n",
    "df_excluded = pd.read_pickle(os.path.join(path, 'Data', 'Prepared Data', 'low_activity_excluded.pkl'))"
   ]
  },
  {
   "cell_type": "code",
   "execution_count": 46,
   "id": "55de5932-ba25-4c77-b9aa-7b57c3cb9db2",
   "metadata": {},
   "outputs": [
    {
     "data": {
      "text/plain": [
       "['Unnamed: 0',\n",
       " 'product_id',\n",
       " 'product_name',\n",
       " 'aisle_id',\n",
       " 'department_id',\n",
       " 'prices',\n",
       " 'order_id',\n",
       " 'user_id',\n",
       " 'order_number',\n",
       " 'order_dow',\n",
       " 'order_hour_of_day',\n",
       " 'days_since_prior_order',\n",
       " 'add_to_cart_order',\n",
       " 'reordered',\n",
       " 'price_range_loc',\n",
       " 'busiest_period_of_day',\n",
       " 'max_order',\n",
       " 'loyalty_flag',\n",
       " 'average_spend',\n",
       " 'spender_flag',\n",
       " 'Customer_frequency',\n",
       " 'frequency_flag',\n",
       " 'first_name',\n",
       " 'surname',\n",
       " 'gender',\n",
       " 'state',\n",
       " 'age',\n",
       " 'date_joined',\n",
       " 'n_dependants',\n",
       " 'marital_status',\n",
       " 'income',\n",
       " '_merge',\n",
       " 'region',\n",
       " 'activity_flag',\n",
       " 'income_group',\n",
       " 'age_group',\n",
       " 'dependants_flag']"
      ]
     },
     "execution_count": 46,
     "metadata": {},
     "output_type": "execute_result"
    }
   ],
   "source": [
    "list(df_excluded.columns.values)"
   ]
  },
  {
   "cell_type": "markdown",
   "id": "b2536bb5-6262-4a02-b5c6-55e00d8a5993",
   "metadata": {},
   "source": [
    "#### Loyalty vs Age group:"
   ]
  },
  {
   "cell_type": "code",
   "execution_count": 47,
   "id": "82f70843-42dd-4c8a-a556-0c77c236c1c3",
   "metadata": {},
   "outputs": [
    {
     "data": {
      "text/html": [
       "<div>\n",
       "<style scoped>\n",
       "    .dataframe tbody tr th:only-of-type {\n",
       "        vertical-align: middle;\n",
       "    }\n",
       "\n",
       "    .dataframe tbody tr th {\n",
       "        vertical-align: top;\n",
       "    }\n",
       "\n",
       "    .dataframe thead th {\n",
       "        text-align: right;\n",
       "    }\n",
       "</style>\n",
       "<table border=\"1\" class=\"dataframe\">\n",
       "  <thead>\n",
       "    <tr style=\"text-align: right;\">\n",
       "      <th>age_group</th>\n",
       "      <th>adult</th>\n",
       "      <th>middle-aged</th>\n",
       "      <th>senior</th>\n",
       "      <th>young adult</th>\n",
       "    </tr>\n",
       "    <tr>\n",
       "      <th>loyalty_flag</th>\n",
       "      <th></th>\n",
       "      <th></th>\n",
       "      <th></th>\n",
       "      <th></th>\n",
       "    </tr>\n",
       "  </thead>\n",
       "  <tbody>\n",
       "    <tr>\n",
       "      <th>Loyal customer</th>\n",
       "      <td>1515145</td>\n",
       "      <td>1600607</td>\n",
       "      <td>1358054</td>\n",
       "      <td>638832</td>\n",
       "    </tr>\n",
       "    <tr>\n",
       "      <th>New customer</th>\n",
       "      <td>702490</td>\n",
       "      <td>743934</td>\n",
       "      <td>629827</td>\n",
       "      <td>295426</td>\n",
       "    </tr>\n",
       "    <tr>\n",
       "      <th>Regular customer</th>\n",
       "      <td>2347115</td>\n",
       "      <td>2449608</td>\n",
       "      <td>2075693</td>\n",
       "      <td>985556</td>\n",
       "    </tr>\n",
       "  </tbody>\n",
       "</table>\n",
       "</div>"
      ],
      "text/plain": [
       "age_group           adult  middle-aged   senior  young adult\n",
       "loyalty_flag                                                \n",
       "Loyal customer    1515145      1600607  1358054       638832\n",
       "New customer       702490       743934   629827       295426\n",
       "Regular customer  2347115      2449608  2075693       985556"
      ]
     },
     "execution_count": 47,
     "metadata": {},
     "output_type": "execute_result"
    }
   ],
   "source": [
    "# Crosstab loyalty with age group\n",
    "loyalty_age_cross = pd.crosstab(df_excluded['loyalty_flag'], df_excluded['age_group'], dropna = False)\n",
    "loyalty_age_cross"
   ]
  },
  {
   "cell_type": "code",
   "execution_count": 48,
   "id": "05149578-e24b-41bc-8ee0-c4d94855d242",
   "metadata": {},
   "outputs": [
    {
     "data": {
      "text/plain": [
       "(array([0, 1, 2]),\n",
       " [Text(0, 0, 'Loyal customer'),\n",
       "  Text(1, 0, 'New customer'),\n",
       "  Text(2, 0, 'Regular customer')])"
      ]
     },
     "execution_count": 48,
     "metadata": {},
     "output_type": "execute_result"
    },
    {
     "data": {
      "image/png": "[encoded data removed]",
      "text/plain": [
       "<Figure size 640x480 with 1 Axes>"
      ]
     },
     "metadata": {},
     "output_type": "display_data"
    }
   ],
   "source": [
    "# bar chart\n",
    "loyalty_age_bar = loyalty_age_cross.plot.bar()\n",
    "plt.title('Loyalty by Age Group')\n",
    "plt.xlabel('')\n",
    "plt.ylabel('count')\n",
    "plt.xticks(rotation=0)"
   ]
  },
  {
   "cell_type": "code",
   "execution_count": 49,
   "id": "8343040c-b673-48d1-988b-619450c6fb8e",
   "metadata": {},
   "outputs": [],
   "source": [
    "# Export the chart\n",
    "loyalty_age_bar.figure.savefig(os.path.join(path, 'Analysis','Visualizations', 'loyalty_age_group_bar.png'))"
   ]
  },
  {
   "cell_type": "markdown",
   "id": "be329b1a-78d0-4dac-9814-deb92c408437",
   "metadata": {},
   "source": [
    "#### Spending vs Age group:"
   ]
  },
  {
   "cell_type": "code",
   "execution_count": 50,
   "id": "00e3089d-33f8-4884-baf5-3061314c6945",
   "metadata": {},
   "outputs": [
    {
     "data": {
      "text/html": [
       "<div>\n",
       "<style scoped>\n",
       "    .dataframe tbody tr th:only-of-type {\n",
       "        vertical-align: middle;\n",
       "    }\n",
       "\n",
       "    .dataframe tbody tr th {\n",
       "        vertical-align: top;\n",
       "    }\n",
       "\n",
       "    .dataframe thead th {\n",
       "        text-align: right;\n",
       "    }\n",
       "</style>\n",
       "<table border=\"1\" class=\"dataframe\">\n",
       "  <thead>\n",
       "    <tr style=\"text-align: right;\">\n",
       "      <th>age_group</th>\n",
       "      <th>adult</th>\n",
       "      <th>middle-aged</th>\n",
       "      <th>senior</th>\n",
       "      <th>young adult</th>\n",
       "    </tr>\n",
       "    <tr>\n",
       "      <th>spender_flag</th>\n",
       "      <th></th>\n",
       "      <th></th>\n",
       "      <th></th>\n",
       "      <th></th>\n",
       "    </tr>\n",
       "  </thead>\n",
       "  <tbody>\n",
       "    <tr>\n",
       "      <th>High_spender</th>\n",
       "      <td>130181</td>\n",
       "      <td>141554</td>\n",
       "      <td>115945</td>\n",
       "      <td>55207</td>\n",
       "    </tr>\n",
       "    <tr>\n",
       "      <th>Low_spender</th>\n",
       "      <td>4434569</td>\n",
       "      <td>4652595</td>\n",
       "      <td>3947629</td>\n",
       "      <td>1864607</td>\n",
       "    </tr>\n",
       "  </tbody>\n",
       "</table>\n",
       "</div>"
      ],
      "text/plain": [
       "age_group       adult  middle-aged   senior  young adult\n",
       "spender_flag                                            \n",
       "High_spender   130181       141554   115945        55207\n",
       "Low_spender   4434569      4652595  3947629      1864607"
      ]
     },
     "execution_count": 50,
     "metadata": {},
     "output_type": "execute_result"
    }
   ],
   "source": [
    "# Crosstab spending with age group\n",
    "spending_age_cross = pd.crosstab(df_excluded['spender_flag'], df_excluded['age_group'], dropna = False)\n",
    "spending_age_cross"
   ]
  },
  {
   "cell_type": "code",
   "execution_count": 51,
   "id": "6fc009c7-8c4f-4e87-bf94-398f40bc9d73",
   "metadata": {},
   "outputs": [
    {
     "data": {
      "text/plain": [
       "(array([0, 1]), [Text(0, 0, 'High_spender'), Text(1, 0, 'Low_spender')])"
      ]
     },
     "execution_count": 51,
     "metadata": {},
     "output_type": "execute_result"
    },
    {
     "data": {
      "image/png": "[encoded data removed]",
      "text/plain": [
       "<Figure size 640x480 with 1 Axes>"
      ]
     },
     "metadata": {},
     "output_type": "display_data"
    }
   ],
   "source": [
    "# bar chart\n",
    "spending_age_bar = spending_age_cross.plot.bar()\n",
    "plt.title('Spending by Age Group')\n",
    "plt.xlabel('')\n",
    "plt.ylabel('count')\n",
    "plt.xticks(rotation=0)"
   ]
  },
  {
   "cell_type": "code",
   "execution_count": 52,
   "id": "a679b772-e73e-4053-9f21-d196f3f5317e",
   "metadata": {},
   "outputs": [],
   "source": [
    "# Export the chart\n",
    "spending_age_bar.figure.savefig(os.path.join(path, 'Analysis','Visualizations', 'spending_age_group_bar.png'))"
   ]
  },
  {
   "cell_type": "markdown",
   "id": "99c6ac59-e376-4f2d-81ee-636b4becd405",
   "metadata": {},
   "source": [
    "#### Redo regional spending with low activity customers excluded:"
   ]
  },
  {
   "cell_type": "code",
   "execution_count": 53,
   "id": "07be57ff-7822-4370-a821-9db79defe59b",
   "metadata": {},
   "outputs": [],
   "source": [
    "df_excluded.loc[df_excluded['state'] == 'Pennsylvania', 'region'] = 'Northeast'"
   ]
  },
  {
   "cell_type": "code",
   "execution_count": 57,
   "id": "26f1c73d-9810-4371-ac65-719b590d5376",
   "metadata": {},
   "outputs": [],
   "source": [
    "# Crosstab Region to spending flag\n",
    "region_spending_cross = pd.crosstab(df_excluded['region'], df_excluded['spender_flag'], dropna = False)"
   ]
  },
  {
   "cell_type": "code",
   "execution_count": 59,
   "id": "c18f011c-3606-4934-8694-6e7c95811880",
   "metadata": {},
   "outputs": [
    {
     "data": {
      "text/html": [
       "<div>\n",
       "<style scoped>\n",
       "    .dataframe tbody tr th:only-of-type {\n",
       "        vertical-align: middle;\n",
       "    }\n",
       "\n",
       "    .dataframe tbody tr th {\n",
       "        vertical-align: top;\n",
       "    }\n",
       "\n",
       "    .dataframe thead th {\n",
       "        text-align: right;\n",
       "    }\n",
       "</style>\n",
       "<table border=\"1\" class=\"dataframe\">\n",
       "  <thead>\n",
       "    <tr style=\"text-align: right;\">\n",
       "      <th>spender_flag</th>\n",
       "      <th>High_spender</th>\n",
       "      <th>Low_spender</th>\n",
       "    </tr>\n",
       "    <tr>\n",
       "      <th>region</th>\n",
       "      <th></th>\n",
       "      <th></th>\n",
       "    </tr>\n",
       "  </thead>\n",
       "  <tbody>\n",
       "    <tr>\n",
       "      <th>Midwest</th>\n",
       "      <td>104227</td>\n",
       "      <td>3491532</td>\n",
       "    </tr>\n",
       "    <tr>\n",
       "      <th>Northeast</th>\n",
       "      <td>59335</td>\n",
       "      <td>2052093</td>\n",
       "    </tr>\n",
       "    <tr>\n",
       "      <th>South</th>\n",
       "      <td>144606</td>\n",
       "      <td>4963427</td>\n",
       "    </tr>\n",
       "    <tr>\n",
       "      <th>West</th>\n",
       "      <td>116955</td>\n",
       "      <td>3811326</td>\n",
       "    </tr>\n",
       "    <tr>\n",
       "      <th>NaN</th>\n",
       "      <td>17764</td>\n",
       "      <td>581022</td>\n",
       "    </tr>\n",
       "  </tbody>\n",
       "</table>\n",
       "</div>"
      ],
      "text/plain": [
       "spender_flag  High_spender  Low_spender\n",
       "region                                 \n",
       "Midwest             104227      3491532\n",
       "Northeast            59335      2052093\n",
       "South               144606      4963427\n",
       "West                116955      3811326\n",
       "NaN                  17764       581022"
      ]
     },
     "execution_count": 59,
     "metadata": {},
     "output_type": "execute_result"
    }
   ],
   "source": [
    "region_spending_cross"
   ]
  },
  {
   "cell_type": "code",
   "execution_count": 58,
   "id": "a6e86d91-c6a6-4b2a-b172-d3dd6eec09be",
   "metadata": {},
   "outputs": [
    {
     "data": {
      "text/plain": [
       "(array([0, 1, 2, 3, 4]),\n",
       " [Text(0, 0, 'Midwest'),\n",
       "  Text(1, 0, 'Northeast'),\n",
       "  Text(2, 0, 'South'),\n",
       "  Text(3, 0, 'West'),\n",
       "  Text(4, 0, 'nan')])"
      ]
     },
     "execution_count": 58,
     "metadata": {},
     "output_type": "execute_result"
    },
    {
     "data": {
      "image/png": "[encoded data removed]",
      "text/plain": [
       "<Figure size 640x480 with 1 Axes>"
      ]
     },
     "metadata": {},
     "output_type": "display_data"
    }
   ],
   "source": [
    "# bar chart\n",
    "region_spending_bar = region_spending_cross.plot.bar()\n",
    "plt.title('Spending by Region')\n",
    "plt.xlabel('')\n",
    "plt.ylabel('count')\n",
    "plt.xticks(rotation=0)"
   ]
  },
  {
   "cell_type": "code",
   "execution_count": 60,
   "id": "6528718f-6f63-4426-805d-2dd533369b85",
   "metadata": {},
   "outputs": [],
   "source": [
    "# Export the chart\n",
    "region_spending_bar.figure.savefig(os.path.join(path, 'Analysis','Visualizations', 'region_spending_bar.png'))"
   ]
  },
  {
   "cell_type": "markdown",
   "id": "cb26d118-a9eb-4eb9-8902-057ac2446521",
   "metadata": {},
   "source": [
    "#### Orders by Department:"
   ]
  },
  {
   "cell_type": "code",
   "execution_count": 61,
   "id": "321fe625-b68f-4156-a445-943d04971d05",
   "metadata": {},
   "outputs": [],
   "source": [
    "# Import departments dataframe\n",
    "dept = pd.read_csv(os.path.join(path, 'Data', 'Prepared Data', 'departments_wrangled.csv'))"
   ]
  },
  {
   "cell_type": "code",
   "execution_count": 62,
   "id": "4a2d5a0b-9caf-4ec3-a6bf-01b0c3cc793f",
   "metadata": {},
   "outputs": [
    {
     "data": {
      "text/html": [
       "<div>\n",
       "<style scoped>\n",
       "    .dataframe tbody tr th:only-of-type {\n",
       "        vertical-align: middle;\n",
       "    }\n",
       "\n",
       "    .dataframe tbody tr th {\n",
       "        vertical-align: top;\n",
       "    }\n",
       "\n",
       "    .dataframe thead th {\n",
       "        text-align: right;\n",
       "    }\n",
       "</style>\n",
       "<table border=\"1\" class=\"dataframe\">\n",
       "  <thead>\n",
       "    <tr style=\"text-align: right;\">\n",
       "      <th></th>\n",
       "      <th>Unnamed: 0</th>\n",
       "      <th>department</th>\n",
       "    </tr>\n",
       "  </thead>\n",
       "  <tbody>\n",
       "    <tr>\n",
       "      <th>0</th>\n",
       "      <td>1</td>\n",
       "      <td>frozen</td>\n",
       "    </tr>\n",
       "    <tr>\n",
       "      <th>1</th>\n",
       "      <td>2</td>\n",
       "      <td>other</td>\n",
       "    </tr>\n",
       "    <tr>\n",
       "      <th>2</th>\n",
       "      <td>3</td>\n",
       "      <td>bakery</td>\n",
       "    </tr>\n",
       "    <tr>\n",
       "      <th>3</th>\n",
       "      <td>4</td>\n",
       "      <td>produce</td>\n",
       "    </tr>\n",
       "    <tr>\n",
       "      <th>4</th>\n",
       "      <td>5</td>\n",
       "      <td>alcohol</td>\n",
       "    </tr>\n",
       "    <tr>\n",
       "      <th>5</th>\n",
       "      <td>6</td>\n",
       "      <td>international</td>\n",
       "    </tr>\n",
       "    <tr>\n",
       "      <th>6</th>\n",
       "      <td>7</td>\n",
       "      <td>beverages</td>\n",
       "    </tr>\n",
       "    <tr>\n",
       "      <th>7</th>\n",
       "      <td>8</td>\n",
       "      <td>pets</td>\n",
       "    </tr>\n",
       "    <tr>\n",
       "      <th>8</th>\n",
       "      <td>9</td>\n",
       "      <td>dry goods pasta</td>\n",
       "    </tr>\n",
       "    <tr>\n",
       "      <th>9</th>\n",
       "      <td>10</td>\n",
       "      <td>bulk</td>\n",
       "    </tr>\n",
       "    <tr>\n",
       "      <th>10</th>\n",
       "      <td>11</td>\n",
       "      <td>personal care</td>\n",
       "    </tr>\n",
       "    <tr>\n",
       "      <th>11</th>\n",
       "      <td>12</td>\n",
       "      <td>meat seafood</td>\n",
       "    </tr>\n",
       "    <tr>\n",
       "      <th>12</th>\n",
       "      <td>13</td>\n",
       "      <td>pantry</td>\n",
       "    </tr>\n",
       "    <tr>\n",
       "      <th>13</th>\n",
       "      <td>14</td>\n",
       "      <td>breakfast</td>\n",
       "    </tr>\n",
       "    <tr>\n",
       "      <th>14</th>\n",
       "      <td>15</td>\n",
       "      <td>canned goods</td>\n",
       "    </tr>\n",
       "    <tr>\n",
       "      <th>15</th>\n",
       "      <td>16</td>\n",
       "      <td>dairy eggs</td>\n",
       "    </tr>\n",
       "    <tr>\n",
       "      <th>16</th>\n",
       "      <td>17</td>\n",
       "      <td>household</td>\n",
       "    </tr>\n",
       "    <tr>\n",
       "      <th>17</th>\n",
       "      <td>18</td>\n",
       "      <td>babies</td>\n",
       "    </tr>\n",
       "    <tr>\n",
       "      <th>18</th>\n",
       "      <td>19</td>\n",
       "      <td>snacks</td>\n",
       "    </tr>\n",
       "    <tr>\n",
       "      <th>19</th>\n",
       "      <td>20</td>\n",
       "      <td>deli</td>\n",
       "    </tr>\n",
       "    <tr>\n",
       "      <th>20</th>\n",
       "      <td>21</td>\n",
       "      <td>missing</td>\n",
       "    </tr>\n",
       "  </tbody>\n",
       "</table>\n",
       "</div>"
      ],
      "text/plain": [
       "    Unnamed: 0       department\n",
       "0            1           frozen\n",
       "1            2            other\n",
       "2            3           bakery\n",
       "3            4          produce\n",
       "4            5          alcohol\n",
       "5            6    international\n",
       "6            7        beverages\n",
       "7            8             pets\n",
       "8            9  dry goods pasta\n",
       "9           10             bulk\n",
       "10          11    personal care\n",
       "11          12     meat seafood\n",
       "12          13           pantry\n",
       "13          14        breakfast\n",
       "14          15     canned goods\n",
       "15          16       dairy eggs\n",
       "16          17        household\n",
       "17          18           babies\n",
       "18          19           snacks\n",
       "19          20             deli\n",
       "20          21          missing"
      ]
     },
     "execution_count": 62,
     "metadata": {},
     "output_type": "execute_result"
    }
   ],
   "source": [
    "dept"
   ]
  },
  {
   "cell_type": "code",
   "execution_count": 65,
   "id": "838202f3-4685-45b3-9711-561f183d1578",
   "metadata": {},
   "outputs": [
    {
     "data": {
      "text/html": [
       "<div>\n",
       "<style scoped>\n",
       "    .dataframe tbody tr th:only-of-type {\n",
       "        vertical-align: middle;\n",
       "    }\n",
       "\n",
       "    .dataframe tbody tr th {\n",
       "        vertical-align: top;\n",
       "    }\n",
       "\n",
       "    .dataframe thead th {\n",
       "        text-align: right;\n",
       "    }\n",
       "</style>\n",
       "<table border=\"1\" class=\"dataframe\">\n",
       "  <thead>\n",
       "    <tr style=\"text-align: right;\">\n",
       "      <th></th>\n",
       "      <th>product_id</th>\n",
       "      <th>product_name</th>\n",
       "      <th>aisle_id</th>\n",
       "      <th>department_id</th>\n",
       "      <th>prices</th>\n",
       "      <th>order_id</th>\n",
       "      <th>user_id</th>\n",
       "      <th>order_number</th>\n",
       "      <th>order_dow</th>\n",
       "      <th>order_hour_of_day</th>\n",
       "      <th>...</th>\n",
       "      <th>age</th>\n",
       "      <th>date_joined</th>\n",
       "      <th>n_dependants</th>\n",
       "      <th>marital_status</th>\n",
       "      <th>income</th>\n",
       "      <th>region</th>\n",
       "      <th>activity_flag</th>\n",
       "      <th>income_group</th>\n",
       "      <th>age_group</th>\n",
       "      <th>dependants_flag</th>\n",
       "    </tr>\n",
       "  </thead>\n",
       "  <tbody>\n",
       "    <tr>\n",
       "      <th>0</th>\n",
       "      <td>1</td>\n",
       "      <td>Chocolate Sandwich Cookies</td>\n",
       "      <td>61</td>\n",
       "      <td>19</td>\n",
       "      <td>5.8</td>\n",
       "      <td>3139998</td>\n",
       "      <td>138</td>\n",
       "      <td>28</td>\n",
       "      <td>6</td>\n",
       "      <td>11</td>\n",
       "      <td>...</td>\n",
       "      <td>81</td>\n",
       "      <td>8/1/2019</td>\n",
       "      <td>1</td>\n",
       "      <td>married</td>\n",
       "      <td>49620</td>\n",
       "      <td>Midwest</td>\n",
       "      <td>high-activity customer</td>\n",
       "      <td>low-income</td>\n",
       "      <td>senior</td>\n",
       "      <td>has dependants</td>\n",
       "    </tr>\n",
       "    <tr>\n",
       "      <th>1</th>\n",
       "      <td>1</td>\n",
       "      <td>Chocolate Sandwich Cookies</td>\n",
       "      <td>61</td>\n",
       "      <td>19</td>\n",
       "      <td>5.8</td>\n",
       "      <td>1977647</td>\n",
       "      <td>138</td>\n",
       "      <td>30</td>\n",
       "      <td>6</td>\n",
       "      <td>17</td>\n",
       "      <td>...</td>\n",
       "      <td>81</td>\n",
       "      <td>8/1/2019</td>\n",
       "      <td>1</td>\n",
       "      <td>married</td>\n",
       "      <td>49620</td>\n",
       "      <td>Midwest</td>\n",
       "      <td>high-activity customer</td>\n",
       "      <td>low-income</td>\n",
       "      <td>senior</td>\n",
       "      <td>has dependants</td>\n",
       "    </tr>\n",
       "    <tr>\n",
       "      <th>2</th>\n",
       "      <td>1</td>\n",
       "      <td>Chocolate Sandwich Cookies</td>\n",
       "      <td>61</td>\n",
       "      <td>19</td>\n",
       "      <td>5.8</td>\n",
       "      <td>389851</td>\n",
       "      <td>709</td>\n",
       "      <td>2</td>\n",
       "      <td>0</td>\n",
       "      <td>21</td>\n",
       "      <td>...</td>\n",
       "      <td>66</td>\n",
       "      <td>6/16/2018</td>\n",
       "      <td>2</td>\n",
       "      <td>married</td>\n",
       "      <td>158302</td>\n",
       "      <td>Northeast</td>\n",
       "      <td>high-activity customer</td>\n",
       "      <td>high-income</td>\n",
       "      <td>senior</td>\n",
       "      <td>has dependants</td>\n",
       "    </tr>\n",
       "    <tr>\n",
       "      <th>5</th>\n",
       "      <td>1</td>\n",
       "      <td>Chocolate Sandwich Cookies</td>\n",
       "      <td>61</td>\n",
       "      <td>19</td>\n",
       "      <td>5.8</td>\n",
       "      <td>1701441</td>\n",
       "      <td>777</td>\n",
       "      <td>16</td>\n",
       "      <td>1</td>\n",
       "      <td>7</td>\n",
       "      <td>...</td>\n",
       "      <td>51</td>\n",
       "      <td>1/4/2019</td>\n",
       "      <td>2</td>\n",
       "      <td>married</td>\n",
       "      <td>57797</td>\n",
       "      <td>West</td>\n",
       "      <td>high-activity customer</td>\n",
       "      <td>middle-income</td>\n",
       "      <td>middle-aged</td>\n",
       "      <td>has dependants</td>\n",
       "    </tr>\n",
       "    <tr>\n",
       "      <th>6</th>\n",
       "      <td>1</td>\n",
       "      <td>Chocolate Sandwich Cookies</td>\n",
       "      <td>61</td>\n",
       "      <td>19</td>\n",
       "      <td>5.8</td>\n",
       "      <td>1871483</td>\n",
       "      <td>825</td>\n",
       "      <td>3</td>\n",
       "      <td>2</td>\n",
       "      <td>14</td>\n",
       "      <td>...</td>\n",
       "      <td>20</td>\n",
       "      <td>5/8/2019</td>\n",
       "      <td>3</td>\n",
       "      <td>living with parents and siblings</td>\n",
       "      <td>34171</td>\n",
       "      <td>South</td>\n",
       "      <td>high-activity customer</td>\n",
       "      <td>low-income</td>\n",
       "      <td>young adult</td>\n",
       "      <td>has dependants</td>\n",
       "    </tr>\n",
       "    <tr>\n",
       "      <th>...</th>\n",
       "      <td>...</td>\n",
       "      <td>...</td>\n",
       "      <td>...</td>\n",
       "      <td>...</td>\n",
       "      <td>...</td>\n",
       "      <td>...</td>\n",
       "      <td>...</td>\n",
       "      <td>...</td>\n",
       "      <td>...</td>\n",
       "      <td>...</td>\n",
       "      <td>...</td>\n",
       "      <td>...</td>\n",
       "      <td>...</td>\n",
       "      <td>...</td>\n",
       "      <td>...</td>\n",
       "      <td>...</td>\n",
       "      <td>...</td>\n",
       "      <td>...</td>\n",
       "      <td>...</td>\n",
       "      <td>...</td>\n",
       "      <td>...</td>\n",
       "    </tr>\n",
       "    <tr>\n",
       "      <th>16063389</th>\n",
       "      <td>25005</td>\n",
       "      <td>Organic Green Lentils</td>\n",
       "      <td>63</td>\n",
       "      <td>9</td>\n",
       "      <td>1.5</td>\n",
       "      <td>2797671</td>\n",
       "      <td>122848</td>\n",
       "      <td>98</td>\n",
       "      <td>3</td>\n",
       "      <td>13</td>\n",
       "      <td>...</td>\n",
       "      <td>25</td>\n",
       "      <td>5/18/2017</td>\n",
       "      <td>3</td>\n",
       "      <td>married</td>\n",
       "      <td>90541</td>\n",
       "      <td>Northeast</td>\n",
       "      <td>high-activity customer</td>\n",
       "      <td>middle-income</td>\n",
       "      <td>young adult</td>\n",
       "      <td>has dependants</td>\n",
       "    </tr>\n",
       "    <tr>\n",
       "      <th>16063390</th>\n",
       "      <td>25005</td>\n",
       "      <td>Organic Green Lentils</td>\n",
       "      <td>63</td>\n",
       "      <td>9</td>\n",
       "      <td>1.5</td>\n",
       "      <td>1657843</td>\n",
       "      <td>122852</td>\n",
       "      <td>7</td>\n",
       "      <td>0</td>\n",
       "      <td>10</td>\n",
       "      <td>...</td>\n",
       "      <td>78</td>\n",
       "      <td>7/21/2017</td>\n",
       "      <td>3</td>\n",
       "      <td>married</td>\n",
       "      <td>154169</td>\n",
       "      <td>South</td>\n",
       "      <td>high-activity customer</td>\n",
       "      <td>high-income</td>\n",
       "      <td>senior</td>\n",
       "      <td>has dependants</td>\n",
       "    </tr>\n",
       "    <tr>\n",
       "      <th>16063391</th>\n",
       "      <td>25005</td>\n",
       "      <td>Organic Green Lentils</td>\n",
       "      <td>63</td>\n",
       "      <td>9</td>\n",
       "      <td>1.5</td>\n",
       "      <td>1253504</td>\n",
       "      <td>122883</td>\n",
       "      <td>51</td>\n",
       "      <td>5</td>\n",
       "      <td>23</td>\n",
       "      <td>...</td>\n",
       "      <td>37</td>\n",
       "      <td>11/22/2018</td>\n",
       "      <td>0</td>\n",
       "      <td>single</td>\n",
       "      <td>64808</td>\n",
       "      <td>Northeast</td>\n",
       "      <td>high-activity customer</td>\n",
       "      <td>middle-income</td>\n",
       "      <td>adult</td>\n",
       "      <td>no dependants</td>\n",
       "    </tr>\n",
       "    <tr>\n",
       "      <th>16063392</th>\n",
       "      <td>25005</td>\n",
       "      <td>Organic Green Lentils</td>\n",
       "      <td>63</td>\n",
       "      <td>9</td>\n",
       "      <td>1.5</td>\n",
       "      <td>2342617</td>\n",
       "      <td>122952</td>\n",
       "      <td>8</td>\n",
       "      <td>6</td>\n",
       "      <td>16</td>\n",
       "      <td>...</td>\n",
       "      <td>33</td>\n",
       "      <td>2/28/2018</td>\n",
       "      <td>1</td>\n",
       "      <td>married</td>\n",
       "      <td>91383</td>\n",
       "      <td>Midwest</td>\n",
       "      <td>high-activity customer</td>\n",
       "      <td>middle-income</td>\n",
       "      <td>adult</td>\n",
       "      <td>has dependants</td>\n",
       "    </tr>\n",
       "    <tr>\n",
       "      <th>16063393</th>\n",
       "      <td>25005</td>\n",
       "      <td>Organic Green Lentils</td>\n",
       "      <td>63</td>\n",
       "      <td>9</td>\n",
       "      <td>1.5</td>\n",
       "      <td>3229025</td>\n",
       "      <td>122971</td>\n",
       "      <td>34</td>\n",
       "      <td>1</td>\n",
       "      <td>16</td>\n",
       "      <td>...</td>\n",
       "      <td>53</td>\n",
       "      <td>12/14/2018</td>\n",
       "      <td>0</td>\n",
       "      <td>single</td>\n",
       "      <td>139119</td>\n",
       "      <td>South</td>\n",
       "      <td>high-activity customer</td>\n",
       "      <td>middle-income</td>\n",
       "      <td>middle-aged</td>\n",
       "      <td>no dependants</td>\n",
       "    </tr>\n",
       "  </tbody>\n",
       "</table>\n",
       "<p>15342287 rows × 35 columns</p>\n",
       "</div>"
      ],
      "text/plain": [
       "          product_id                product_name  aisle_id  department_id  \\\n",
       "0                  1  Chocolate Sandwich Cookies        61             19   \n",
       "1                  1  Chocolate Sandwich Cookies        61             19   \n",
       "2                  1  Chocolate Sandwich Cookies        61             19   \n",
       "5                  1  Chocolate Sandwich Cookies        61             19   \n",
       "6                  1  Chocolate Sandwich Cookies        61             19   \n",
       "...              ...                         ...       ...            ...   \n",
       "16063389       25005       Organic Green Lentils        63              9   \n",
       "16063390       25005       Organic Green Lentils        63              9   \n",
       "16063391       25005       Organic Green Lentils        63              9   \n",
       "16063392       25005       Organic Green Lentils        63              9   \n",
       "16063393       25005       Organic Green Lentils        63              9   \n",
       "\n",
       "          prices  order_id user_id  order_number  order_dow  \\\n",
       "0            5.8   3139998     138            28          6   \n",
       "1            5.8   1977647     138            30          6   \n",
       "2            5.8    389851     709             2          0   \n",
       "5            5.8   1701441     777            16          1   \n",
       "6            5.8   1871483     825             3          2   \n",
       "...          ...       ...     ...           ...        ...   \n",
       "16063389     1.5   2797671  122848            98          3   \n",
       "16063390     1.5   1657843  122852             7          0   \n",
       "16063391     1.5   1253504  122883            51          5   \n",
       "16063392     1.5   2342617  122952             8          6   \n",
       "16063393     1.5   3229025  122971            34          1   \n",
       "\n",
       "          order_hour_of_day  ...  age  date_joined  n_dependants  \\\n",
       "0                        11  ...   81     8/1/2019             1   \n",
       "1                        17  ...   81     8/1/2019             1   \n",
       "2                        21  ...   66    6/16/2018             2   \n",
       "5                         7  ...   51     1/4/2019             2   \n",
       "6                        14  ...   20     5/8/2019             3   \n",
       "...                     ...  ...  ...          ...           ...   \n",
       "16063389                 13  ...   25    5/18/2017             3   \n",
       "16063390                 10  ...   78    7/21/2017             3   \n",
       "16063391                 23  ...   37   11/22/2018             0   \n",
       "16063392                 16  ...   33    2/28/2018             1   \n",
       "16063393                 16  ...   53   12/14/2018             0   \n",
       "\n",
       "                            marital_status  income     region  \\\n",
       "0                                  married   49620    Midwest   \n",
       "1                                  married   49620    Midwest   \n",
       "2                                  married  158302  Northeast   \n",
       "5                                  married   57797       West   \n",
       "6         living with parents and siblings   34171      South   \n",
       "...                                    ...     ...        ...   \n",
       "16063389                           married   90541  Northeast   \n",
       "16063390                           married  154169      South   \n",
       "16063391                            single   64808  Northeast   \n",
       "16063392                           married   91383    Midwest   \n",
       "16063393                            single  139119      South   \n",
       "\n",
       "                   activity_flag   income_group    age_group  dependants_flag  \n",
       "0         high-activity customer     low-income       senior   has dependants  \n",
       "1         high-activity customer     low-income       senior   has dependants  \n",
       "2         high-activity customer    high-income       senior   has dependants  \n",
       "5         high-activity customer  middle-income  middle-aged   has dependants  \n",
       "6         high-activity customer     low-income  young adult   has dependants  \n",
       "...                          ...            ...          ...              ...  \n",
       "16063389  high-activity customer  middle-income  young adult   has dependants  \n",
       "16063390  high-activity customer    high-income       senior   has dependants  \n",
       "16063391  high-activity customer  middle-income        adult    no dependants  \n",
       "16063392  high-activity customer  middle-income        adult   has dependants  \n",
       "16063393  high-activity customer  middle-income  middle-aged    no dependants  \n",
       "\n",
       "[15342287 rows x 35 columns]"
      ]
     },
     "execution_count": 65,
     "metadata": {},
     "output_type": "execute_result"
    }
   ],
   "source": [
    "df_excluded.drop(columns = ['_merge','Unnamed: 0'])"
   ]
  },
  {
   "cell_type": "code",
   "execution_count": 103,
   "id": "7e3a64a8-02f8-4c57-81c8-0f6a1ce711cf",
   "metadata": {},
   "outputs": [],
   "source": [
    "dept.rename(columns={'Unnamed: 0': 'department_id'}, inplace=True)"
   ]
  },
  {
   "cell_type": "code",
   "execution_count": 106,
   "id": "0ecc593d-31b8-4619-b53f-b6127ea69b80",
   "metadata": {},
   "outputs": [],
   "source": [
    "df_final_merged = df_excluded.merge(dept, on='department_id', indicator='created')"
   ]
  },
  {
   "cell_type": "code",
   "execution_count": 107,
   "id": "de847377-f35b-4891-bf86-525b8677e151",
   "metadata": {},
   "outputs": [],
   "source": [
    "# Exporting new dataframe with department merged \n",
    "df_final_merged.to_pickle(os.path.join(path,'Data','Prepared Data','orders_products_customers_departments.pkl'))"
   ]
  },
  {
   "cell_type": "code",
   "execution_count": 108,
   "id": "56fa2dee-ebbc-4b3b-90d1-2343099f5681",
   "metadata": {},
   "outputs": [
    {
     "data": {
      "image/png": "[encoded data removed]",
      "text/plain": [
       "<Figure size 640x480 with 1 Axes>"
      ]
     },
     "metadata": {},
     "output_type": "display_data"
    }
   ],
   "source": [
    "# bar chart frequency of orders vs department\n",
    "depts_bar = df_final_merged['department'].value_counts(ascending=True).plot(kind='barh', color='blue', xlabel = 'Count', title='Products Ordered by Department')"
   ]
  },
  {
   "cell_type": "code",
   "execution_count": 109,
   "id": "535ebad3-8b20-4d0d-8076-aede454a402c",
   "metadata": {},
   "outputs": [],
   "source": [
    "# Export bar chart\n",
    "depts_bar.figure.savefig(os.path.join(path, 'Analysis','Visualizations', 'depts_bar.png'))"
   ]
  },
  {
   "cell_type": "markdown",
   "id": "4d45e492-5b27-406d-a2c4-6287ec0fdfc9",
   "metadata": {},
   "source": [
    "#### Age vs Department:"
   ]
  },
  {
   "cell_type": "code",
   "execution_count": 110,
   "id": "e31d6a7d-780b-4847-a945-d03e10a5d8bd",
   "metadata": {},
   "outputs": [
    {
     "data": {
      "text/html": [
       "<div>\n",
       "<style scoped>\n",
       "    .dataframe tbody tr th:only-of-type {\n",
       "        vertical-align: middle;\n",
       "    }\n",
       "\n",
       "    .dataframe tbody tr th {\n",
       "        vertical-align: top;\n",
       "    }\n",
       "\n",
       "    .dataframe thead th {\n",
       "        text-align: right;\n",
       "    }\n",
       "</style>\n",
       "<table border=\"1\" class=\"dataframe\">\n",
       "  <thead>\n",
       "    <tr style=\"text-align: right;\">\n",
       "      <th>department</th>\n",
       "      <th>alcohol</th>\n",
       "      <th>babies</th>\n",
       "      <th>bakery</th>\n",
       "      <th>beverages</th>\n",
       "      <th>breakfast</th>\n",
       "      <th>bulk</th>\n",
       "      <th>canned goods</th>\n",
       "      <th>dairy eggs</th>\n",
       "      <th>deli</th>\n",
       "      <th>dry goods pasta</th>\n",
       "      <th>...</th>\n",
       "      <th>household</th>\n",
       "      <th>international</th>\n",
       "      <th>meat seafood</th>\n",
       "      <th>missing</th>\n",
       "      <th>other</th>\n",
       "      <th>pantry</th>\n",
       "      <th>personal care</th>\n",
       "      <th>pets</th>\n",
       "      <th>produce</th>\n",
       "      <th>snacks</th>\n",
       "    </tr>\n",
       "    <tr>\n",
       "      <th>age_group</th>\n",
       "      <th></th>\n",
       "      <th></th>\n",
       "      <th></th>\n",
       "      <th></th>\n",
       "      <th></th>\n",
       "      <th></th>\n",
       "      <th></th>\n",
       "      <th></th>\n",
       "      <th></th>\n",
       "      <th></th>\n",
       "      <th></th>\n",
       "      <th></th>\n",
       "      <th></th>\n",
       "      <th></th>\n",
       "      <th></th>\n",
       "      <th></th>\n",
       "      <th></th>\n",
       "      <th></th>\n",
       "      <th></th>\n",
       "      <th></th>\n",
       "      <th></th>\n",
       "    </tr>\n",
       "  </thead>\n",
       "  <tbody>\n",
       "    <tr>\n",
       "      <th>adult</th>\n",
       "      <td>18311</td>\n",
       "      <td>61948</td>\n",
       "      <td>190175</td>\n",
       "      <td>370198</td>\n",
       "      <td>85922</td>\n",
       "      <td>7743</td>\n",
       "      <td>162562</td>\n",
       "      <td>730786</td>\n",
       "      <td>136165</td>\n",
       "      <td>119855</td>\n",
       "      <td>...</td>\n",
       "      <td>105161</td>\n",
       "      <td>44919</td>\n",
       "      <td>100079</td>\n",
       "      <td>8986</td>\n",
       "      <td>3702</td>\n",
       "      <td>264978</td>\n",
       "      <td>65216</td>\n",
       "      <td>14780</td>\n",
       "      <td>1327662</td>\n",
       "      <td>413124</td>\n",
       "    </tr>\n",
       "    <tr>\n",
       "      <th>middle-aged</th>\n",
       "      <td>19718</td>\n",
       "      <td>64698</td>\n",
       "      <td>198723</td>\n",
       "      <td>402125</td>\n",
       "      <td>90024</td>\n",
       "      <td>7977</td>\n",
       "      <td>171697</td>\n",
       "      <td>760304</td>\n",
       "      <td>142335</td>\n",
       "      <td>125404</td>\n",
       "      <td>...</td>\n",
       "      <td>110480</td>\n",
       "      <td>46845</td>\n",
       "      <td>106193</td>\n",
       "      <td>9782</td>\n",
       "      <td>3924</td>\n",
       "      <td>279722</td>\n",
       "      <td>70207</td>\n",
       "      <td>15646</td>\n",
       "      <td>1382065</td>\n",
       "      <td>432049</td>\n",
       "    </tr>\n",
       "    <tr>\n",
       "      <th>senior</th>\n",
       "      <td>15636</td>\n",
       "      <td>54106</td>\n",
       "      <td>169486</td>\n",
       "      <td>338091</td>\n",
       "      <td>74894</td>\n",
       "      <td>7025</td>\n",
       "      <td>144654</td>\n",
       "      <td>648017</td>\n",
       "      <td>119846</td>\n",
       "      <td>106045</td>\n",
       "      <td>...</td>\n",
       "      <td>94140</td>\n",
       "      <td>39605</td>\n",
       "      <td>91310</td>\n",
       "      <td>8014</td>\n",
       "      <td>3420</td>\n",
       "      <td>236454</td>\n",
       "      <td>57559</td>\n",
       "      <td>13971</td>\n",
       "      <td>1177088</td>\n",
       "      <td>363994</td>\n",
       "    </tr>\n",
       "    <tr>\n",
       "      <th>young adult</th>\n",
       "      <td>8297</td>\n",
       "      <td>26302</td>\n",
       "      <td>80768</td>\n",
       "      <td>157797</td>\n",
       "      <td>36633</td>\n",
       "      <td>3304</td>\n",
       "      <td>68387</td>\n",
       "      <td>306692</td>\n",
       "      <td>55360</td>\n",
       "      <td>50672</td>\n",
       "      <td>...</td>\n",
       "      <td>44562</td>\n",
       "      <td>18932</td>\n",
       "      <td>42111</td>\n",
       "      <td>3999</td>\n",
       "      <td>1726</td>\n",
       "      <td>112025</td>\n",
       "      <td>27723</td>\n",
       "      <td>6873</td>\n",
       "      <td>554492</td>\n",
       "      <td>173651</td>\n",
       "    </tr>\n",
       "  </tbody>\n",
       "</table>\n",
       "<p>4 rows × 21 columns</p>\n",
       "</div>"
      ],
      "text/plain": [
       "department   alcohol  babies  bakery  beverages  breakfast  bulk  \\\n",
       "age_group                                                          \n",
       "adult          18311   61948  190175     370198      85922  7743   \n",
       "middle-aged    19718   64698  198723     402125      90024  7977   \n",
       "senior         15636   54106  169486     338091      74894  7025   \n",
       "young adult     8297   26302   80768     157797      36633  3304   \n",
       "\n",
       "department   canned goods  dairy eggs    deli  dry goods pasta  ...  \\\n",
       "age_group                                                       ...   \n",
       "adult              162562      730786  136165           119855  ...   \n",
       "middle-aged        171697      760304  142335           125404  ...   \n",
       "senior             144654      648017  119846           106045  ...   \n",
       "young adult         68387      306692   55360            50672  ...   \n",
       "\n",
       "department   household  international  meat seafood  missing  other  pantry  \\\n",
       "age_group                                                                     \n",
       "adult           105161          44919        100079     8986   3702  264978   \n",
       "middle-aged     110480          46845        106193     9782   3924  279722   \n",
       "senior           94140          39605         91310     8014   3420  236454   \n",
       "young adult      44562          18932         42111     3999   1726  112025   \n",
       "\n",
       "department   personal care   pets  produce  snacks  \n",
       "age_group                                           \n",
       "adult                65216  14780  1327662  413124  \n",
       "middle-aged          70207  15646  1382065  432049  \n",
       "senior               57559  13971  1177088  363994  \n",
       "young adult          27723   6873   554492  173651  \n",
       "\n",
       "[4 rows x 21 columns]"
      ]
     },
     "execution_count": 110,
     "metadata": {},
     "output_type": "execute_result"
    }
   ],
   "source": [
    "# crosstab age group vs department\n",
    "age_dept_cross = pd.crosstab(df_final_merged['age_group'], df_final_merged['department'], dropna = False)\n",
    "age_dept_cross"
   ]
  },
  {
   "cell_type": "code",
   "execution_count": 111,
   "id": "696bb7f1-e84e-44ed-8121-e9793ad34e87",
   "metadata": {},
   "outputs": [
    {
     "data": {
      "text/plain": [
       "<matplotlib.legend.Legend at 0x2ae9c81e840>"
      ]
     },
     "execution_count": 111,
     "metadata": {},
     "output_type": "execute_result"
    },
    {
     "data": {
      "image/png": "[encoded data removed]",
      "text/plain": [
       "<Figure size 1400x1000 with 1 Axes>"
      ]
     },
     "metadata": {},
     "output_type": "display_data"
    }
   ],
   "source": [
    "# bar chart\n",
    "age_dept_bar = age_dept_cross.plot(kind = 'barh', figsize=(14,10))\n",
    "plt.title('Department Sales by Age Group')\n",
    "plt.xlabel('products count')\n",
    "plt.ylabel('age group')\n",
    "# Move legend outside of plot\n",
    "plt.legend(title='Department', bbox_to_anchor=(1.05, 1), loc='upper left', fontsize=12, title_fontsize=14)"
   ]
  },
  {
   "cell_type": "code",
   "execution_count": 112,
   "id": "ed24474f-8062-4d60-bcbe-6e6d862fed17",
   "metadata": {},
   "outputs": [],
   "source": [
    "# Export bar chart\n",
    "age_dept_bar.figure.savefig(os.path.join(path, 'Analysis','Visualizations', 'age_depts_bar.png'))"
   ]
  },
  {
   "cell_type": "markdown",
   "id": "0e963cc3-b54e-4bd0-8b67-03be5887dd8d",
   "metadata": {},
   "source": [
    "#### Income vs Department:"
   ]
  },
  {
   "cell_type": "code",
   "execution_count": 113,
   "id": "9902fc14-79df-457e-8eb5-db6cffbc3cfa",
   "metadata": {},
   "outputs": [
    {
     "data": {
      "text/html": [
       "<div>\n",
       "<style scoped>\n",
       "    .dataframe tbody tr th:only-of-type {\n",
       "        vertical-align: middle;\n",
       "    }\n",
       "\n",
       "    .dataframe tbody tr th {\n",
       "        vertical-align: top;\n",
       "    }\n",
       "\n",
       "    .dataframe thead th {\n",
       "        text-align: right;\n",
       "    }\n",
       "</style>\n",
       "<table border=\"1\" class=\"dataframe\">\n",
       "  <thead>\n",
       "    <tr style=\"text-align: right;\">\n",
       "      <th>department</th>\n",
       "      <th>alcohol</th>\n",
       "      <th>babies</th>\n",
       "      <th>bakery</th>\n",
       "      <th>beverages</th>\n",
       "      <th>breakfast</th>\n",
       "      <th>bulk</th>\n",
       "      <th>canned goods</th>\n",
       "      <th>dairy eggs</th>\n",
       "      <th>deli</th>\n",
       "      <th>dry goods pasta</th>\n",
       "      <th>...</th>\n",
       "      <th>household</th>\n",
       "      <th>international</th>\n",
       "      <th>meat seafood</th>\n",
       "      <th>missing</th>\n",
       "      <th>other</th>\n",
       "      <th>pantry</th>\n",
       "      <th>personal care</th>\n",
       "      <th>pets</th>\n",
       "      <th>produce</th>\n",
       "      <th>snacks</th>\n",
       "    </tr>\n",
       "    <tr>\n",
       "      <th>income_group</th>\n",
       "      <th></th>\n",
       "      <th></th>\n",
       "      <th></th>\n",
       "      <th></th>\n",
       "      <th></th>\n",
       "      <th></th>\n",
       "      <th></th>\n",
       "      <th></th>\n",
       "      <th></th>\n",
       "      <th></th>\n",
       "      <th></th>\n",
       "      <th></th>\n",
       "      <th></th>\n",
       "      <th></th>\n",
       "      <th></th>\n",
       "      <th></th>\n",
       "      <th></th>\n",
       "      <th></th>\n",
       "      <th></th>\n",
       "      <th></th>\n",
       "      <th></th>\n",
       "    </tr>\n",
       "  </thead>\n",
       "  <tbody>\n",
       "    <tr>\n",
       "      <th>high-income</th>\n",
       "      <td>10302</td>\n",
       "      <td>26862</td>\n",
       "      <td>84597</td>\n",
       "      <td>151876</td>\n",
       "      <td>35336</td>\n",
       "      <td>2800</td>\n",
       "      <td>71626</td>\n",
       "      <td>312985</td>\n",
       "      <td>56329</td>\n",
       "      <td>51867</td>\n",
       "      <td>...</td>\n",
       "      <td>45783</td>\n",
       "      <td>19417</td>\n",
       "      <td>45637</td>\n",
       "      <td>3842</td>\n",
       "      <td>1688</td>\n",
       "      <td>116277</td>\n",
       "      <td>27780</td>\n",
       "      <td>6996</td>\n",
       "      <td>553341</td>\n",
       "      <td>154021</td>\n",
       "    </tr>\n",
       "    <tr>\n",
       "      <th>low-income</th>\n",
       "      <td>9658</td>\n",
       "      <td>21903</td>\n",
       "      <td>83652</td>\n",
       "      <td>245510</td>\n",
       "      <td>51069</td>\n",
       "      <td>4997</td>\n",
       "      <td>61347</td>\n",
       "      <td>323069</td>\n",
       "      <td>67367</td>\n",
       "      <td>46335</td>\n",
       "      <td>...</td>\n",
       "      <td>55721</td>\n",
       "      <td>17781</td>\n",
       "      <td>26710</td>\n",
       "      <td>4539</td>\n",
       "      <td>1678</td>\n",
       "      <td>111787</td>\n",
       "      <td>32355</td>\n",
       "      <td>6505</td>\n",
       "      <td>575837</td>\n",
       "      <td>329462</td>\n",
       "    </tr>\n",
       "    <tr>\n",
       "      <th>middle-income</th>\n",
       "      <td>42002</td>\n",
       "      <td>158289</td>\n",
       "      <td>470903</td>\n",
       "      <td>870825</td>\n",
       "      <td>201068</td>\n",
       "      <td>18252</td>\n",
       "      <td>414327</td>\n",
       "      <td>1809745</td>\n",
       "      <td>330010</td>\n",
       "      <td>303774</td>\n",
       "      <td>...</td>\n",
       "      <td>252839</td>\n",
       "      <td>113103</td>\n",
       "      <td>267346</td>\n",
       "      <td>22400</td>\n",
       "      <td>9406</td>\n",
       "      <td>665115</td>\n",
       "      <td>160570</td>\n",
       "      <td>37769</td>\n",
       "      <td>3312129</td>\n",
       "      <td>899335</td>\n",
       "    </tr>\n",
       "  </tbody>\n",
       "</table>\n",
       "<p>3 rows × 21 columns</p>\n",
       "</div>"
      ],
      "text/plain": [
       "department     alcohol  babies  bakery  beverages  breakfast   bulk  \\\n",
       "income_group                                                          \n",
       "high-income      10302   26862   84597     151876      35336   2800   \n",
       "low-income        9658   21903   83652     245510      51069   4997   \n",
       "middle-income    42002  158289  470903     870825     201068  18252   \n",
       "\n",
       "department     canned goods  dairy eggs    deli  dry goods pasta  ...  \\\n",
       "income_group                                                      ...   \n",
       "high-income           71626      312985   56329            51867  ...   \n",
       "low-income            61347      323069   67367            46335  ...   \n",
       "middle-income        414327     1809745  330010           303774  ...   \n",
       "\n",
       "department     household  international  meat seafood  missing  other  pantry  \\\n",
       "income_group                                                                    \n",
       "high-income        45783          19417         45637     3842   1688  116277   \n",
       "low-income         55721          17781         26710     4539   1678  111787   \n",
       "middle-income     252839         113103        267346    22400   9406  665115   \n",
       "\n",
       "department     personal care   pets  produce  snacks  \n",
       "income_group                                          \n",
       "high-income            27780   6996   553341  154021  \n",
       "low-income             32355   6505   575837  329462  \n",
       "middle-income         160570  37769  3312129  899335  \n",
       "\n",
       "[3 rows x 21 columns]"
      ]
     },
     "execution_count": 113,
     "metadata": {},
     "output_type": "execute_result"
    }
   ],
   "source": [
    "# crosstab income group vs department\n",
    "income_dept_cross = pd.crosstab(df_final_merged['income_group'], df_final_merged['department'], dropna = False)\n",
    "income_dept_cross"
   ]
  },
  {
   "cell_type": "code",
   "execution_count": 114,
   "id": "869e579b-4f4a-4802-ac20-8315c7b12abf",
   "metadata": {},
   "outputs": [
    {
     "data": {
      "text/html": [
       "<div>\n",
       "<style scoped>\n",
       "    .dataframe tbody tr th:only-of-type {\n",
       "        vertical-align: middle;\n",
       "    }\n",
       "\n",
       "    .dataframe tbody tr th {\n",
       "        vertical-align: top;\n",
       "    }\n",
       "\n",
       "    .dataframe thead th {\n",
       "        text-align: right;\n",
       "    }\n",
       "</style>\n",
       "<table border=\"1\" class=\"dataframe\">\n",
       "  <thead>\n",
       "    <tr style=\"text-align: right;\">\n",
       "      <th>department</th>\n",
       "      <th>alcohol</th>\n",
       "      <th>babies</th>\n",
       "      <th>bakery</th>\n",
       "      <th>beverages</th>\n",
       "      <th>breakfast</th>\n",
       "      <th>bulk</th>\n",
       "      <th>canned goods</th>\n",
       "      <th>dairy eggs</th>\n",
       "      <th>deli</th>\n",
       "      <th>dry goods pasta</th>\n",
       "      <th>...</th>\n",
       "      <th>household</th>\n",
       "      <th>international</th>\n",
       "      <th>meat seafood</th>\n",
       "      <th>missing</th>\n",
       "      <th>other</th>\n",
       "      <th>pantry</th>\n",
       "      <th>personal care</th>\n",
       "      <th>pets</th>\n",
       "      <th>produce</th>\n",
       "      <th>snacks</th>\n",
       "    </tr>\n",
       "    <tr>\n",
       "      <th>income_group</th>\n",
       "      <th></th>\n",
       "      <th></th>\n",
       "      <th></th>\n",
       "      <th></th>\n",
       "      <th></th>\n",
       "      <th></th>\n",
       "      <th></th>\n",
       "      <th></th>\n",
       "      <th></th>\n",
       "      <th></th>\n",
       "      <th></th>\n",
       "      <th></th>\n",
       "      <th></th>\n",
       "      <th></th>\n",
       "      <th></th>\n",
       "      <th></th>\n",
       "      <th></th>\n",
       "      <th></th>\n",
       "      <th></th>\n",
       "      <th></th>\n",
       "      <th></th>\n",
       "    </tr>\n",
       "  </thead>\n",
       "  <tbody>\n",
       "    <tr>\n",
       "      <th>high-income</th>\n",
       "      <td>10302</td>\n",
       "      <td>26862</td>\n",
       "      <td>84597</td>\n",
       "      <td>151876</td>\n",
       "      <td>35336</td>\n",
       "      <td>2800</td>\n",
       "      <td>71626</td>\n",
       "      <td>312985</td>\n",
       "      <td>56329</td>\n",
       "      <td>51867</td>\n",
       "      <td>...</td>\n",
       "      <td>45783</td>\n",
       "      <td>19417</td>\n",
       "      <td>45637</td>\n",
       "      <td>3842</td>\n",
       "      <td>1688</td>\n",
       "      <td>116277</td>\n",
       "      <td>27780</td>\n",
       "      <td>6996</td>\n",
       "      <td>553341</td>\n",
       "      <td>154021</td>\n",
       "    </tr>\n",
       "    <tr>\n",
       "      <th>low-income</th>\n",
       "      <td>9658</td>\n",
       "      <td>21903</td>\n",
       "      <td>83652</td>\n",
       "      <td>245510</td>\n",
       "      <td>51069</td>\n",
       "      <td>4997</td>\n",
       "      <td>61347</td>\n",
       "      <td>323069</td>\n",
       "      <td>67367</td>\n",
       "      <td>46335</td>\n",
       "      <td>...</td>\n",
       "      <td>55721</td>\n",
       "      <td>17781</td>\n",
       "      <td>26710</td>\n",
       "      <td>4539</td>\n",
       "      <td>1678</td>\n",
       "      <td>111787</td>\n",
       "      <td>32355</td>\n",
       "      <td>6505</td>\n",
       "      <td>575837</td>\n",
       "      <td>329462</td>\n",
       "    </tr>\n",
       "    <tr>\n",
       "      <th>middle-income</th>\n",
       "      <td>42002</td>\n",
       "      <td>158289</td>\n",
       "      <td>470903</td>\n",
       "      <td>870825</td>\n",
       "      <td>201068</td>\n",
       "      <td>18252</td>\n",
       "      <td>414327</td>\n",
       "      <td>1809745</td>\n",
       "      <td>330010</td>\n",
       "      <td>303774</td>\n",
       "      <td>...</td>\n",
       "      <td>252839</td>\n",
       "      <td>113103</td>\n",
       "      <td>267346</td>\n",
       "      <td>22400</td>\n",
       "      <td>9406</td>\n",
       "      <td>665115</td>\n",
       "      <td>160570</td>\n",
       "      <td>37769</td>\n",
       "      <td>3312129</td>\n",
       "      <td>899335</td>\n",
       "    </tr>\n",
       "  </tbody>\n",
       "</table>\n",
       "<p>3 rows × 21 columns</p>\n",
       "</div>"
      ],
      "text/plain": [
       "department     alcohol  babies  bakery  beverages  breakfast   bulk  \\\n",
       "income_group                                                          \n",
       "high-income      10302   26862   84597     151876      35336   2800   \n",
       "low-income        9658   21903   83652     245510      51069   4997   \n",
       "middle-income    42002  158289  470903     870825     201068  18252   \n",
       "\n",
       "department     canned goods  dairy eggs    deli  dry goods pasta  ...  \\\n",
       "income_group                                                      ...   \n",
       "high-income           71626      312985   56329            51867  ...   \n",
       "low-income            61347      323069   67367            46335  ...   \n",
       "middle-income        414327     1809745  330010           303774  ...   \n",
       "\n",
       "department     household  international  meat seafood  missing  other  pantry  \\\n",
       "income_group                                                                    \n",
       "high-income        45783          19417         45637     3842   1688  116277   \n",
       "low-income         55721          17781         26710     4539   1678  111787   \n",
       "middle-income     252839         113103        267346    22400   9406  665115   \n",
       "\n",
       "department     personal care   pets  produce  snacks  \n",
       "income_group                                          \n",
       "high-income            27780   6996   553341  154021  \n",
       "low-income             32355   6505   575837  329462  \n",
       "middle-income         160570  37769  3312129  899335  \n",
       "\n",
       "[3 rows x 21 columns]"
      ]
     },
     "execution_count": 114,
     "metadata": {},
     "output_type": "execute_result"
    }
   ],
   "source": [
    "# crosstab income group vs department\n",
    "income_dept_cross = pd.crosstab(df_final_merged['income_group'], df_final_merged['department'], dropna = False)\n",
    "income_dept_cross"
   ]
  },
  {
   "cell_type": "code",
   "execution_count": 115,
   "id": "3811e514-11b5-43d4-98ad-d2950fdb2dd9",
   "metadata": {},
   "outputs": [
    {
     "data": {
      "text/plain": [
       "<matplotlib.legend.Legend at 0x2ae9ce17770>"
      ]
     },
     "execution_count": 115,
     "metadata": {},
     "output_type": "execute_result"
    },
    {
     "data": {
      "image/png": "[encoded data removed]",
      "text/plain": [
       "<Figure size 1400x1000 with 1 Axes>"
      ]
     },
     "metadata": {},
     "output_type": "display_data"
    }
   ],
   "source": [
    "# bar chart\n",
    "income_dept_bar = income_dept_cross.plot(kind = 'barh', figsize=(14,10))\n",
    "plt.title('Department Sales by Income Group')\n",
    "plt.xlabel('products count')\n",
    "plt.ylabel('income group')\n",
    "# Move legend outside of plot\n",
    "plt.legend(title='Department', bbox_to_anchor=(1.05, 1), loc='upper left', fontsize=12, title_fontsize=14)"
   ]
  },
  {
   "cell_type": "code",
   "execution_count": 116,
   "id": "3e7c50f4-bb94-4866-bdfe-94e9d639c848",
   "metadata": {},
   "outputs": [],
   "source": [
    "# Export bar chart\n",
    "income_dept_bar.figure.savefig(os.path.join(path, 'Analysis','Visualizations', 'income_depts_bar.png'))"
   ]
  },
  {
   "cell_type": "markdown",
   "id": "a417dd9c-87a3-41f1-8fb5-aeb73370f770",
   "metadata": {},
   "source": [
    "### 6. Aggregate the max, mean, and min variables on a customer-profile level for usage frequency and expenditure:"
   ]
  },
  {
   "cell_type": "code",
   "execution_count": null,
   "id": "93623b80-91c9-4a2b-a0a7-2147e3e042c4",
   "metadata": {},
   "outputs": [],
   "source": [
    "customer_profile = df_final_merged.groupby([\n",
    "    'user_id', 'gender', 'state', 'region', 'n_dependants', 'marital_status', \n",
    "    'age_group', 'order_number', 'order_dow', 'order_hour_of_day', \n",
    "    'loyalty_flag', 'Customer_frequency', 'dependants_flag', \n",
    "    'income_group', 'spender_flag'\n",
    "])['prices'].sum().reset_index()"
   ]
  },
  {
   "cell_type": "code",
   "execution_count": null,
   "id": "e319a6f1-16a4-4814-9847-7463d93f6233",
   "metadata": {},
   "outputs": [],
   "source": [
    "# Create a subset of customer profiles and show the total price of each order\n",
    "customer_profile = df_final_merged.groupby(['user_id', 'gender', 'state', 'region', 'n_dependants', 'fam_status', 'age_group', 'order_number', 'orders_day_of_week', 'order_hour_of_day', 'loyalty_flag', 'customer_frequency', 'dependants_flag', 'income_group', 'spender_flag'])['prices'].sum().reset_index()"
   ]
  },
  {
   "cell_type": "code",
   "execution_count": 122,
   "id": "7cd2c0f1-70a7-41e8-8017-ba837310707a",
   "metadata": {},
   "outputs": [
    {
     "data": {
      "text/html": [
       "<div>\n",
       "<style scoped>\n",
       "    .dataframe tbody tr th:only-of-type {\n",
       "        vertical-align: middle;\n",
       "    }\n",
       "\n",
       "    .dataframe tbody tr th {\n",
       "        vertical-align: top;\n",
       "    }\n",
       "\n",
       "    .dataframe thead th {\n",
       "        text-align: right;\n",
       "    }\n",
       "</style>\n",
       "<table border=\"1\" class=\"dataframe\">\n",
       "  <thead>\n",
       "    <tr style=\"text-align: right;\">\n",
       "      <th></th>\n",
       "      <th>user_id</th>\n",
       "      <th>gender</th>\n",
       "      <th>state</th>\n",
       "      <th>region</th>\n",
       "      <th>n_dependants</th>\n",
       "      <th>marital_status</th>\n",
       "      <th>age_group</th>\n",
       "      <th>order_number</th>\n",
       "      <th>order_dow</th>\n",
       "      <th>order_hour_of_day</th>\n",
       "      <th>loyalty_flag</th>\n",
       "      <th>Customer_frequency</th>\n",
       "      <th>dependants_flag</th>\n",
       "      <th>income_group</th>\n",
       "      <th>spender_flag</th>\n",
       "      <th>prices</th>\n",
       "    </tr>\n",
       "  </thead>\n",
       "  <tbody>\n",
       "    <tr>\n",
       "      <th>0</th>\n",
       "      <td>1</td>\n",
       "      <td>Female</td>\n",
       "      <td>Alabama</td>\n",
       "      <td>South</td>\n",
       "      <td>3</td>\n",
       "      <td>married</td>\n",
       "      <td>adult</td>\n",
       "      <td>1</td>\n",
       "      <td>2</td>\n",
       "      <td>8</td>\n",
       "      <td>New customer</td>\n",
       "      <td>20.0</td>\n",
       "      <td>has dependants</td>\n",
       "      <td>low-income</td>\n",
       "      <td>Low_spender</td>\n",
       "      <td>25.9</td>\n",
       "    </tr>\n",
       "    <tr>\n",
       "      <th>1</th>\n",
       "      <td>1</td>\n",
       "      <td>Female</td>\n",
       "      <td>Alabama</td>\n",
       "      <td>South</td>\n",
       "      <td>3</td>\n",
       "      <td>married</td>\n",
       "      <td>adult</td>\n",
       "      <td>2</td>\n",
       "      <td>3</td>\n",
       "      <td>7</td>\n",
       "      <td>New customer</td>\n",
       "      <td>20.0</td>\n",
       "      <td>has dependants</td>\n",
       "      <td>low-income</td>\n",
       "      <td>Low_spender</td>\n",
       "      <td>30.7</td>\n",
       "    </tr>\n",
       "    <tr>\n",
       "      <th>2</th>\n",
       "      <td>1</td>\n",
       "      <td>Female</td>\n",
       "      <td>Alabama</td>\n",
       "      <td>South</td>\n",
       "      <td>3</td>\n",
       "      <td>married</td>\n",
       "      <td>adult</td>\n",
       "      <td>3</td>\n",
       "      <td>3</td>\n",
       "      <td>12</td>\n",
       "      <td>New customer</td>\n",
       "      <td>20.0</td>\n",
       "      <td>has dependants</td>\n",
       "      <td>low-income</td>\n",
       "      <td>Low_spender</td>\n",
       "      <td>16.4</td>\n",
       "    </tr>\n",
       "    <tr>\n",
       "      <th>3</th>\n",
       "      <td>1</td>\n",
       "      <td>Female</td>\n",
       "      <td>Alabama</td>\n",
       "      <td>South</td>\n",
       "      <td>3</td>\n",
       "      <td>married</td>\n",
       "      <td>adult</td>\n",
       "      <td>4</td>\n",
       "      <td>4</td>\n",
       "      <td>7</td>\n",
       "      <td>New customer</td>\n",
       "      <td>20.0</td>\n",
       "      <td>has dependants</td>\n",
       "      <td>low-income</td>\n",
       "      <td>Low_spender</td>\n",
       "      <td>16.4</td>\n",
       "    </tr>\n",
       "    <tr>\n",
       "      <th>4</th>\n",
       "      <td>1</td>\n",
       "      <td>Female</td>\n",
       "      <td>Alabama</td>\n",
       "      <td>South</td>\n",
       "      <td>3</td>\n",
       "      <td>married</td>\n",
       "      <td>adult</td>\n",
       "      <td>5</td>\n",
       "      <td>4</td>\n",
       "      <td>15</td>\n",
       "      <td>New customer</td>\n",
       "      <td>20.0</td>\n",
       "      <td>has dependants</td>\n",
       "      <td>low-income</td>\n",
       "      <td>Low_spender</td>\n",
       "      <td>43.4</td>\n",
       "    </tr>\n",
       "  </tbody>\n",
       "</table>\n",
       "</div>"
      ],
      "text/plain": [
       "  user_id  gender    state region  n_dependants marital_status age_group  \\\n",
       "0       1  Female  Alabama  South             3        married     adult   \n",
       "1       1  Female  Alabama  South             3        married     adult   \n",
       "2       1  Female  Alabama  South             3        married     adult   \n",
       "3       1  Female  Alabama  South             3        married     adult   \n",
       "4       1  Female  Alabama  South             3        married     adult   \n",
       "\n",
       "   order_number  order_dow  order_hour_of_day  loyalty_flag  \\\n",
       "0             1          2                  8  New customer   \n",
       "1             2          3                  7  New customer   \n",
       "2             3          3                 12  New customer   \n",
       "3             4          4                  7  New customer   \n",
       "4             5          4                 15  New customer   \n",
       "\n",
       "   Customer_frequency dependants_flag income_group spender_flag  prices  \n",
       "0                20.0  has dependants   low-income  Low_spender    25.9  \n",
       "1                20.0  has dependants   low-income  Low_spender    30.7  \n",
       "2                20.0  has dependants   low-income  Low_spender    16.4  \n",
       "3                20.0  has dependants   low-income  Low_spender    16.4  \n",
       "4                20.0  has dependants   low-income  Low_spender    43.4  "
      ]
     },
     "execution_count": 122,
     "metadata": {},
     "output_type": "execute_result"
    }
   ],
   "source": [
    "customer_profile.head()"
   ]
  },
  {
   "cell_type": "code",
   "execution_count": 123,
   "id": "63735b56-93d2-4af5-89e5-ddcac4b08fd0",
   "metadata": {},
   "outputs": [],
   "source": [
    "# Aggregate variables for customer profiles for expenditure\n",
    "customer_agg = customer_profile.groupby('user_id').agg({'order_number': ['max', 'min', 'mean'], 'prices': ['max', 'min', 'mean']})"
   ]
  },
  {
   "cell_type": "code",
   "execution_count": 124,
   "id": "0b1ba8fe-cb29-4ce6-8a25-e7f484bc03e4",
   "metadata": {},
   "outputs": [
    {
     "data": {
      "text/html": [
       "<div>\n",
       "<style scoped>\n",
       "    .dataframe tbody tr th:only-of-type {\n",
       "        vertical-align: middle;\n",
       "    }\n",
       "\n",
       "    .dataframe tbody tr th {\n",
       "        vertical-align: top;\n",
       "    }\n",
       "\n",
       "    .dataframe thead tr th {\n",
       "        text-align: left;\n",
       "    }\n",
       "\n",
       "    .dataframe thead tr:last-of-type th {\n",
       "        text-align: right;\n",
       "    }\n",
       "</style>\n",
       "<table border=\"1\" class=\"dataframe\">\n",
       "  <thead>\n",
       "    <tr>\n",
       "      <th></th>\n",
       "      <th colspan=\"3\" halign=\"left\">order_number</th>\n",
       "      <th colspan=\"3\" halign=\"left\">prices</th>\n",
       "    </tr>\n",
       "    <tr>\n",
       "      <th></th>\n",
       "      <th>max</th>\n",
       "      <th>min</th>\n",
       "      <th>mean</th>\n",
       "      <th>max</th>\n",
       "      <th>min</th>\n",
       "      <th>mean</th>\n",
       "    </tr>\n",
       "    <tr>\n",
       "      <th>user_id</th>\n",
       "      <th></th>\n",
       "      <th></th>\n",
       "      <th></th>\n",
       "      <th></th>\n",
       "      <th></th>\n",
       "      <th></th>\n",
       "    </tr>\n",
       "  </thead>\n",
       "  <tbody>\n",
       "    <tr>\n",
       "      <th>1</th>\n",
       "      <td>10</td>\n",
       "      <td>1</td>\n",
       "      <td>5.500000</td>\n",
       "      <td>43.4</td>\n",
       "      <td>16.4</td>\n",
       "      <td>22.280000</td>\n",
       "    </tr>\n",
       "    <tr>\n",
       "      <th>10</th>\n",
       "      <td>5</td>\n",
       "      <td>1</td>\n",
       "      <td>3.000000</td>\n",
       "      <td>237.6</td>\n",
       "      <td>13.6</td>\n",
       "      <td>116.640000</td>\n",
       "    </tr>\n",
       "    <tr>\n",
       "      <th>100</th>\n",
       "      <td>5</td>\n",
       "      <td>2</td>\n",
       "      <td>3.500000</td>\n",
       "      <td>38.8</td>\n",
       "      <td>6.9</td>\n",
       "      <td>21.525000</td>\n",
       "    </tr>\n",
       "    <tr>\n",
       "      <th>1000</th>\n",
       "      <td>7</td>\n",
       "      <td>1</td>\n",
       "      <td>4.000000</td>\n",
       "      <td>39.9</td>\n",
       "      <td>14.5</td>\n",
       "      <td>23.871429</td>\n",
       "    </tr>\n",
       "    <tr>\n",
       "      <th>10000</th>\n",
       "      <td>72</td>\n",
       "      <td>1</td>\n",
       "      <td>36.605634</td>\n",
       "      <td>166.1</td>\n",
       "      <td>2.3</td>\n",
       "      <td>58.105634</td>\n",
       "    </tr>\n",
       "    <tr>\n",
       "      <th>...</th>\n",
       "      <td>...</td>\n",
       "      <td>...</td>\n",
       "      <td>...</td>\n",
       "      <td>...</td>\n",
       "      <td>...</td>\n",
       "      <td>...</td>\n",
       "    </tr>\n",
       "    <tr>\n",
       "      <th>99994</th>\n",
       "      <td>11</td>\n",
       "      <td>1</td>\n",
       "      <td>6.000000</td>\n",
       "      <td>96.9</td>\n",
       "      <td>56.7</td>\n",
       "      <td>73.663636</td>\n",
       "    </tr>\n",
       "    <tr>\n",
       "      <th>99995</th>\n",
       "      <td>5</td>\n",
       "      <td>2</td>\n",
       "      <td>3.500000</td>\n",
       "      <td>83.4</td>\n",
       "      <td>16.8</td>\n",
       "      <td>48.575000</td>\n",
       "    </tr>\n",
       "    <tr>\n",
       "      <th>99996</th>\n",
       "      <td>12</td>\n",
       "      <td>1</td>\n",
       "      <td>6.272727</td>\n",
       "      <td>71.7</td>\n",
       "      <td>5.0</td>\n",
       "      <td>37.636364</td>\n",
       "    </tr>\n",
       "    <tr>\n",
       "      <th>99998</th>\n",
       "      <td>5</td>\n",
       "      <td>1</td>\n",
       "      <td>3.000000</td>\n",
       "      <td>37.2</td>\n",
       "      <td>9.3</td>\n",
       "      <td>20.960000</td>\n",
       "    </tr>\n",
       "    <tr>\n",
       "      <th>99999</th>\n",
       "      <td>34</td>\n",
       "      <td>1</td>\n",
       "      <td>18.187500</td>\n",
       "      <td>81.9</td>\n",
       "      <td>5.3</td>\n",
       "      <td>33.906250</td>\n",
       "    </tr>\n",
       "  </tbody>\n",
       "</table>\n",
       "<p>154903 rows × 6 columns</p>\n",
       "</div>"
      ],
      "text/plain": [
       "        order_number                prices                  \n",
       "                 max min       mean    max   min        mean\n",
       "user_id                                                     \n",
       "1                 10   1   5.500000   43.4  16.4   22.280000\n",
       "10                 5   1   3.000000  237.6  13.6  116.640000\n",
       "100                5   2   3.500000   38.8   6.9   21.525000\n",
       "1000               7   1   4.000000   39.9  14.5   23.871429\n",
       "10000             72   1  36.605634  166.1   2.3   58.105634\n",
       "...              ...  ..        ...    ...   ...         ...\n",
       "99994             11   1   6.000000   96.9  56.7   73.663636\n",
       "99995              5   2   3.500000   83.4  16.8   48.575000\n",
       "99996             12   1   6.272727   71.7   5.0   37.636364\n",
       "99998              5   1   3.000000   37.2   9.3   20.960000\n",
       "99999             34   1  18.187500   81.9   5.3   33.906250\n",
       "\n",
       "[154903 rows x 6 columns]"
      ]
     },
     "execution_count": 124,
     "metadata": {},
     "output_type": "execute_result"
    }
   ],
   "source": [
    "customer_agg"
   ]
  },
  {
   "cell_type": "code",
   "execution_count": 125,
   "id": "385cf33a-d477-4d61-b7c5-ab645ff56aa4",
   "metadata": {},
   "outputs": [],
   "source": [
    "# Aggregate variables for customer profiles for usage frequency\n",
    "freq_agg = df_excluded.groupby('user_id').agg({'order_number': ['max', 'min', 'mean'], 'days_since_prior_order': ['max', 'min', 'mean']})"
   ]
  },
  {
   "cell_type": "code",
   "execution_count": 126,
   "id": "b0e850ba-2772-48ea-8698-f4b8013eff77",
   "metadata": {},
   "outputs": [
    {
     "data": {
      "text/html": [
       "<div>\n",
       "<style scoped>\n",
       "    .dataframe tbody tr th:only-of-type {\n",
       "        vertical-align: middle;\n",
       "    }\n",
       "\n",
       "    .dataframe tbody tr th {\n",
       "        vertical-align: top;\n",
       "    }\n",
       "\n",
       "    .dataframe thead tr th {\n",
       "        text-align: left;\n",
       "    }\n",
       "\n",
       "    .dataframe thead tr:last-of-type th {\n",
       "        text-align: right;\n",
       "    }\n",
       "</style>\n",
       "<table border=\"1\" class=\"dataframe\">\n",
       "  <thead>\n",
       "    <tr>\n",
       "      <th></th>\n",
       "      <th colspan=\"3\" halign=\"left\">order_number</th>\n",
       "      <th colspan=\"3\" halign=\"left\">days_since_prior_order</th>\n",
       "    </tr>\n",
       "    <tr>\n",
       "      <th></th>\n",
       "      <th>max</th>\n",
       "      <th>min</th>\n",
       "      <th>mean</th>\n",
       "      <th>max</th>\n",
       "      <th>min</th>\n",
       "      <th>mean</th>\n",
       "    </tr>\n",
       "    <tr>\n",
       "      <th>user_id</th>\n",
       "      <th></th>\n",
       "      <th></th>\n",
       "      <th></th>\n",
       "      <th></th>\n",
       "      <th></th>\n",
       "      <th></th>\n",
       "    </tr>\n",
       "  </thead>\n",
       "  <tbody>\n",
       "    <tr>\n",
       "      <th>1</th>\n",
       "      <td>10</td>\n",
       "      <td>1</td>\n",
       "      <td>5.432432</td>\n",
       "      <td>30.0</td>\n",
       "      <td>0.0</td>\n",
       "      <td>19.270270</td>\n",
       "    </tr>\n",
       "    <tr>\n",
       "      <th>10</th>\n",
       "      <td>5</td>\n",
       "      <td>1</td>\n",
       "      <td>3.307692</td>\n",
       "      <td>30.0</td>\n",
       "      <td>7.0</td>\n",
       "      <td>20.661538</td>\n",
       "    </tr>\n",
       "    <tr>\n",
       "      <th>100</th>\n",
       "      <td>5</td>\n",
       "      <td>2</td>\n",
       "      <td>3.700000</td>\n",
       "      <td>30.0</td>\n",
       "      <td>18.0</td>\n",
       "      <td>26.400000</td>\n",
       "    </tr>\n",
       "    <tr>\n",
       "      <th>1000</th>\n",
       "      <td>7</td>\n",
       "      <td>1</td>\n",
       "      <td>4.071429</td>\n",
       "      <td>30.0</td>\n",
       "      <td>5.0</td>\n",
       "      <td>11.500000</td>\n",
       "    </tr>\n",
       "    <tr>\n",
       "      <th>10000</th>\n",
       "      <td>72</td>\n",
       "      <td>1</td>\n",
       "      <td>36.700952</td>\n",
       "      <td>17.0</td>\n",
       "      <td>0.0</td>\n",
       "      <td>5.053333</td>\n",
       "    </tr>\n",
       "    <tr>\n",
       "      <th>...</th>\n",
       "      <td>...</td>\n",
       "      <td>...</td>\n",
       "      <td>...</td>\n",
       "      <td>...</td>\n",
       "      <td>...</td>\n",
       "      <td>...</td>\n",
       "    </tr>\n",
       "    <tr>\n",
       "      <th>99994</th>\n",
       "      <td>11</td>\n",
       "      <td>1</td>\n",
       "      <td>6.247059</td>\n",
       "      <td>30.0</td>\n",
       "      <td>5.0</td>\n",
       "      <td>17.870588</td>\n",
       "    </tr>\n",
       "    <tr>\n",
       "      <th>99995</th>\n",
       "      <td>5</td>\n",
       "      <td>2</td>\n",
       "      <td>3.592593</td>\n",
       "      <td>30.0</td>\n",
       "      <td>6.0</td>\n",
       "      <td>15.777778</td>\n",
       "    </tr>\n",
       "    <tr>\n",
       "      <th>99996</th>\n",
       "      <td>12</td>\n",
       "      <td>1</td>\n",
       "      <td>6.296296</td>\n",
       "      <td>30.0</td>\n",
       "      <td>7.0</td>\n",
       "      <td>21.259259</td>\n",
       "    </tr>\n",
       "    <tr>\n",
       "      <th>99998</th>\n",
       "      <td>5</td>\n",
       "      <td>1</td>\n",
       "      <td>3.300000</td>\n",
       "      <td>12.0</td>\n",
       "      <td>7.0</td>\n",
       "      <td>8.100000</td>\n",
       "    </tr>\n",
       "    <tr>\n",
       "      <th>99999</th>\n",
       "      <td>34</td>\n",
       "      <td>1</td>\n",
       "      <td>16.253012</td>\n",
       "      <td>24.0</td>\n",
       "      <td>1.0</td>\n",
       "      <td>7.975904</td>\n",
       "    </tr>\n",
       "  </tbody>\n",
       "</table>\n",
       "<p>161180 rows × 6 columns</p>\n",
       "</div>"
      ],
      "text/plain": [
       "        order_number                days_since_prior_order                 \n",
       "                 max min       mean                    max   min       mean\n",
       "user_id                                                                    \n",
       "1                 10   1   5.432432                   30.0   0.0  19.270270\n",
       "10                 5   1   3.307692                   30.0   7.0  20.661538\n",
       "100                5   2   3.700000                   30.0  18.0  26.400000\n",
       "1000               7   1   4.071429                   30.0   5.0  11.500000\n",
       "10000             72   1  36.700952                   17.0   0.0   5.053333\n",
       "...              ...  ..        ...                    ...   ...        ...\n",
       "99994             11   1   6.247059                   30.0   5.0  17.870588\n",
       "99995              5   2   3.592593                   30.0   6.0  15.777778\n",
       "99996             12   1   6.296296                   30.0   7.0  21.259259\n",
       "99998              5   1   3.300000                   12.0   7.0   8.100000\n",
       "99999             34   1  16.253012                   24.0   1.0   7.975904\n",
       "\n",
       "[161180 rows x 6 columns]"
      ]
     },
     "execution_count": 126,
     "metadata": {},
     "output_type": "execute_result"
    }
   ],
   "source": [
    "freq_agg"
   ]
  },
  {
   "cell_type": "markdown",
   "id": "40b3d72c-f991-4b4a-8998-d52f79f66728",
   "metadata": {},
   "source": [
    "#### 7. Compare customer profiles with regions and departments:"
   ]
  },
  {
   "cell_type": "markdown",
   "id": "0253672c-7f29-4872-b245-4734bb769b6a",
   "metadata": {},
   "source": [
    "#### Region vs Department:"
   ]
  },
  {
   "cell_type": "code",
   "execution_count": 127,
   "id": "ac0634cd-851f-4f98-9fba-11ebd667bd21",
   "metadata": {},
   "outputs": [
    {
     "data": {
      "text/html": [
       "<div>\n",
       "<style scoped>\n",
       "    .dataframe tbody tr th:only-of-type {\n",
       "        vertical-align: middle;\n",
       "    }\n",
       "\n",
       "    .dataframe tbody tr th {\n",
       "        vertical-align: top;\n",
       "    }\n",
       "\n",
       "    .dataframe thead th {\n",
       "        text-align: right;\n",
       "    }\n",
       "</style>\n",
       "<table border=\"1\" class=\"dataframe\">\n",
       "  <thead>\n",
       "    <tr style=\"text-align: right;\">\n",
       "      <th>department</th>\n",
       "      <th>alcohol</th>\n",
       "      <th>babies</th>\n",
       "      <th>bakery</th>\n",
       "      <th>beverages</th>\n",
       "      <th>breakfast</th>\n",
       "      <th>bulk</th>\n",
       "      <th>canned goods</th>\n",
       "      <th>dairy eggs</th>\n",
       "      <th>deli</th>\n",
       "      <th>dry goods pasta</th>\n",
       "      <th>...</th>\n",
       "      <th>household</th>\n",
       "      <th>international</th>\n",
       "      <th>meat seafood</th>\n",
       "      <th>missing</th>\n",
       "      <th>other</th>\n",
       "      <th>pantry</th>\n",
       "      <th>personal care</th>\n",
       "      <th>pets</th>\n",
       "      <th>produce</th>\n",
       "      <th>snacks</th>\n",
       "    </tr>\n",
       "    <tr>\n",
       "      <th>region</th>\n",
       "      <th></th>\n",
       "      <th></th>\n",
       "      <th></th>\n",
       "      <th></th>\n",
       "      <th></th>\n",
       "      <th></th>\n",
       "      <th></th>\n",
       "      <th></th>\n",
       "      <th></th>\n",
       "      <th></th>\n",
       "      <th></th>\n",
       "      <th></th>\n",
       "      <th></th>\n",
       "      <th></th>\n",
       "      <th></th>\n",
       "      <th></th>\n",
       "      <th></th>\n",
       "      <th></th>\n",
       "      <th></th>\n",
       "      <th></th>\n",
       "      <th></th>\n",
       "    </tr>\n",
       "  </thead>\n",
       "  <tbody>\n",
       "    <tr>\n",
       "      <th>Midwest</th>\n",
       "      <td>14646</td>\n",
       "      <td>48766</td>\n",
       "      <td>149201</td>\n",
       "      <td>295401</td>\n",
       "      <td>66603</td>\n",
       "      <td>6189</td>\n",
       "      <td>127768</td>\n",
       "      <td>575004</td>\n",
       "      <td>105134</td>\n",
       "      <td>94612</td>\n",
       "      <td>...</td>\n",
       "      <td>83975</td>\n",
       "      <td>35621</td>\n",
       "      <td>79065</td>\n",
       "      <td>7499</td>\n",
       "      <td>3106</td>\n",
       "      <td>210154</td>\n",
       "      <td>52101</td>\n",
       "      <td>12068</td>\n",
       "      <td>1043273</td>\n",
       "      <td>320676</td>\n",
       "    </tr>\n",
       "    <tr>\n",
       "      <th>Northeast</th>\n",
       "      <td>8308</td>\n",
       "      <td>28444</td>\n",
       "      <td>87914</td>\n",
       "      <td>181736</td>\n",
       "      <td>40196</td>\n",
       "      <td>3514</td>\n",
       "      <td>74700</td>\n",
       "      <td>335741</td>\n",
       "      <td>63562</td>\n",
       "      <td>54010</td>\n",
       "      <td>...</td>\n",
       "      <td>48718</td>\n",
       "      <td>20638</td>\n",
       "      <td>46186</td>\n",
       "      <td>4272</td>\n",
       "      <td>1803</td>\n",
       "      <td>122711</td>\n",
       "      <td>30523</td>\n",
       "      <td>7302</td>\n",
       "      <td>606952</td>\n",
       "      <td>192248</td>\n",
       "    </tr>\n",
       "    <tr>\n",
       "      <th>South</th>\n",
       "      <td>20493</td>\n",
       "      <td>70429</td>\n",
       "      <td>211049</td>\n",
       "      <td>422106</td>\n",
       "      <td>95573</td>\n",
       "      <td>8667</td>\n",
       "      <td>182054</td>\n",
       "      <td>815324</td>\n",
       "      <td>151857</td>\n",
       "      <td>133648</td>\n",
       "      <td>...</td>\n",
       "      <td>117491</td>\n",
       "      <td>49643</td>\n",
       "      <td>113279</td>\n",
       "      <td>10427</td>\n",
       "      <td>4247</td>\n",
       "      <td>296308</td>\n",
       "      <td>73907</td>\n",
       "      <td>16182</td>\n",
       "      <td>1477959</td>\n",
       "      <td>459612</td>\n",
       "    </tr>\n",
       "    <tr>\n",
       "      <th>West</th>\n",
       "      <td>16141</td>\n",
       "      <td>51676</td>\n",
       "      <td>165910</td>\n",
       "      <td>320551</td>\n",
       "      <td>74093</td>\n",
       "      <td>6808</td>\n",
       "      <td>141656</td>\n",
       "      <td>623846</td>\n",
       "      <td>115549</td>\n",
       "      <td>103975</td>\n",
       "      <td>...</td>\n",
       "      <td>89955</td>\n",
       "      <td>38670</td>\n",
       "      <td>87480</td>\n",
       "      <td>7424</td>\n",
       "      <td>3167</td>\n",
       "      <td>229672</td>\n",
       "      <td>55741</td>\n",
       "      <td>13348</td>\n",
       "      <td>1139098</td>\n",
       "      <td>355884</td>\n",
       "    </tr>\n",
       "    <tr>\n",
       "      <th>NaN</th>\n",
       "      <td>2374</td>\n",
       "      <td>7739</td>\n",
       "      <td>25078</td>\n",
       "      <td>48417</td>\n",
       "      <td>11008</td>\n",
       "      <td>871</td>\n",
       "      <td>21122</td>\n",
       "      <td>95884</td>\n",
       "      <td>17604</td>\n",
       "      <td>15731</td>\n",
       "      <td>...</td>\n",
       "      <td>14204</td>\n",
       "      <td>5729</td>\n",
       "      <td>13683</td>\n",
       "      <td>1159</td>\n",
       "      <td>449</td>\n",
       "      <td>34334</td>\n",
       "      <td>8433</td>\n",
       "      <td>2370</td>\n",
       "      <td>174025</td>\n",
       "      <td>54398</td>\n",
       "    </tr>\n",
       "  </tbody>\n",
       "</table>\n",
       "<p>5 rows × 21 columns</p>\n",
       "</div>"
      ],
      "text/plain": [
       "department  alcohol  babies  bakery  beverages  breakfast  bulk  canned goods  \\\n",
       "region                                                                          \n",
       "Midwest       14646   48766  149201     295401      66603  6189        127768   \n",
       "Northeast      8308   28444   87914     181736      40196  3514         74700   \n",
       "South         20493   70429  211049     422106      95573  8667        182054   \n",
       "West          16141   51676  165910     320551      74093  6808        141656   \n",
       "NaN            2374    7739   25078      48417      11008   871         21122   \n",
       "\n",
       "department  dairy eggs    deli  dry goods pasta  ...  household  \\\n",
       "region                                           ...              \n",
       "Midwest         575004  105134            94612  ...      83975   \n",
       "Northeast       335741   63562            54010  ...      48718   \n",
       "South           815324  151857           133648  ...     117491   \n",
       "West            623846  115549           103975  ...      89955   \n",
       "NaN              95884   17604            15731  ...      14204   \n",
       "\n",
       "department  international  meat seafood  missing  other  pantry  \\\n",
       "region                                                            \n",
       "Midwest             35621         79065     7499   3106  210154   \n",
       "Northeast           20638         46186     4272   1803  122711   \n",
       "South               49643        113279    10427   4247  296308   \n",
       "West                38670         87480     7424   3167  229672   \n",
       "NaN                  5729         13683     1159    449   34334   \n",
       "\n",
       "department  personal care   pets  produce  snacks  \n",
       "region                                             \n",
       "Midwest             52101  12068  1043273  320676  \n",
       "Northeast           30523   7302   606952  192248  \n",
       "South               73907  16182  1477959  459612  \n",
       "West                55741  13348  1139098  355884  \n",
       "NaN                  8433   2370   174025   54398  \n",
       "\n",
       "[5 rows x 21 columns]"
      ]
     },
     "execution_count": 127,
     "metadata": {},
     "output_type": "execute_result"
    }
   ],
   "source": [
    "# crosstab age group vs department\n",
    "region_dept_cross = pd.crosstab(df_final_merged['region'], df_final_merged['department'], dropna = False)\n",
    "region_dept_cross"
   ]
  },
  {
   "cell_type": "code",
   "execution_count": 128,
   "id": "8e5b6957-2194-44b1-982e-b06b67bc1ac5",
   "metadata": {},
   "outputs": [
    {
     "data": {
      "text/plain": [
       "<matplotlib.legend.Legend at 0x2af30f86600>"
      ]
     },
     "execution_count": 128,
     "metadata": {},
     "output_type": "execute_result"
    },
    {
     "data": {
      "image/png": "[encoded data removed]",
      "text/plain": [
       "<Figure size 1400x1000 with 1 Axes>"
      ]
     },
     "metadata": {},
     "output_type": "display_data"
    }
   ],
   "source": [
    "# bar chart\n",
    "region_dept_bar = region_dept_cross.plot(kind = 'barh', figsize=(14,10))\n",
    "plt.title('Department Sales by Region')\n",
    "plt.xlabel('products count')\n",
    "plt.ylabel('region')\n",
    "# Move legend outside of plot\n",
    "plt.legend(title='Department', bbox_to_anchor=(1.05, 1), loc='upper left', fontsize=12, title_fontsize=14)"
   ]
  },
  {
   "cell_type": "code",
   "execution_count": 129,
   "id": "f114da53-bb73-4ef8-bce9-7eb94f711e00",
   "metadata": {},
   "outputs": [],
   "source": [
    "# Export bar chart\n",
    "region_dept_bar.figure.savefig(os.path.join(path, 'Analysis','Visualizations', 'region_depts_bar.png'))"
   ]
  },
  {
   "cell_type": "code",
   "execution_count": 130,
   "id": "995a3501-6c1f-458a-8361-ab191dec8c9b",
   "metadata": {},
   "outputs": [],
   "source": [
    "# import orders_products_customers\n",
    "df = pd.read_pickle(os.path.join(path, 'Data', 'Prepared Data', 'orders_products_customers_departments.pkl'))"
   ]
  },
  {
   "cell_type": "code",
   "execution_count": 132,
   "id": "ea9359f7-504e-4dcd-b68d-5023e70b22ed",
   "metadata": {},
   "outputs": [
    {
     "data": {
      "text/plain": [
       "Text(0.5, 0, '')"
      ]
     },
     "execution_count": 132,
     "metadata": {},
     "output_type": "execute_result"
    },
    {
     "data": {
      "image/png": "[encoded data removed]",
      "text/plain": [
       "<Figure size 640x480 with 1 Axes>"
      ]
     },
     "metadata": {},
     "output_type": "display_data"
    }
   ],
   "source": [
    "orders_dow_bar = df['order_dow'].value_counts().sort_index().plot.bar(color='blue')\n",
    "orders_dow_bar.set_title('Orders by Day of Week')\n",
    "orders_dow_bar.set_xticklabels(['Saturday', 'Sunday', 'Monday', 'Tuesday', 'Wednesday', 'Thursday', 'Friday'], rotation=0)\n",
    "orders_dow_bar.set_xlabel(\"\")"
   ]
  },
  {
   "cell_type": "code",
   "execution_count": 133,
   "id": "9d06d51f-0e9e-47e0-a426-77e4e24fa4b7",
   "metadata": {},
   "outputs": [],
   "source": [
    "# Export bar chart\n",
    "orders_dow_bar.figure.savefig(os.path.join(path, 'Analysis','Visualizations', 'orders_dow_bar.png'))"
   ]
  },
  {
   "cell_type": "code",
   "execution_count": 134,
   "id": "f845ebb6-c9d5-4677-a7f6-be9bd8f0247f",
   "metadata": {},
   "outputs": [
    {
     "data": {
      "text/plain": [
       "Text(0.5, 0, 'Hour of Day (24 hr clock)')"
      ]
     },
     "execution_count": 134,
     "metadata": {},
     "output_type": "execute_result"
    },
    {
     "data": {
      "image/png": "[encoded data removed]",
      "text/plain": [
       "<Figure size 640x480 with 1 Axes>"
      ]
     },
     "metadata": {},
     "output_type": "display_data"
    }
   ],
   "source": [
    "# histogram of hours of the day\n",
    "hod_hist=df['order_hour_of_day'].plot.hist(bins = 24)\n",
    "plt.title('Orders by Hour of Day')\n",
    "plt.xlabel('Hour of Day (24 hr clock)')"
   ]
  },
  {
   "cell_type": "code",
   "execution_count": 135,
   "id": "fd8b384d-469d-4d1a-a52f-562abd832f43",
   "metadata": {},
   "outputs": [],
   "source": [
    "# Export histogram\n",
    "hod_hist.figure.savefig(os.path.join(path, 'Analysis','Visualizations', 'hod_hist.png'))"
   ]
  },
  {
   "cell_type": "code",
   "execution_count": 136,
   "id": "cca373fb-a953-4830-974d-e635614cdffc",
   "metadata": {},
   "outputs": [
    {
     "data": {
      "text/html": [
       "<div>\n",
       "<style scoped>\n",
       "    .dataframe tbody tr th:only-of-type {\n",
       "        vertical-align: middle;\n",
       "    }\n",
       "\n",
       "    .dataframe tbody tr th {\n",
       "        vertical-align: top;\n",
       "    }\n",
       "\n",
       "    .dataframe thead th {\n",
       "        text-align: right;\n",
       "    }\n",
       "</style>\n",
       "<table border=\"1\" class=\"dataframe\">\n",
       "  <thead>\n",
       "    <tr style=\"text-align: right;\">\n",
       "      <th>income_group</th>\n",
       "      <th>high-income</th>\n",
       "      <th>low-income</th>\n",
       "      <th>middle-income</th>\n",
       "    </tr>\n",
       "    <tr>\n",
       "      <th>loyalty_flag</th>\n",
       "      <th></th>\n",
       "      <th></th>\n",
       "      <th></th>\n",
       "    </tr>\n",
       "  </thead>\n",
       "  <tbody>\n",
       "    <tr>\n",
       "      <th>Loyal customer</th>\n",
       "      <td>651903</td>\n",
       "      <td>692092</td>\n",
       "      <td>3768643</td>\n",
       "    </tr>\n",
       "    <tr>\n",
       "      <th>New customer</th>\n",
       "      <td>283967</td>\n",
       "      <td>399841</td>\n",
       "      <td>1687869</td>\n",
       "    </tr>\n",
       "    <tr>\n",
       "      <th>Regular customer</th>\n",
       "      <td>990645</td>\n",
       "      <td>1138586</td>\n",
       "      <td>5728741</td>\n",
       "    </tr>\n",
       "  </tbody>\n",
       "</table>\n",
       "</div>"
      ],
      "text/plain": [
       "income_group      high-income  low-income  middle-income\n",
       "loyalty_flag                                            \n",
       "Loyal customer         651903      692092        3768643\n",
       "New customer           283967      399841        1687869\n",
       "Regular customer       990645     1138586        5728741"
      ]
     },
     "execution_count": 136,
     "metadata": {},
     "output_type": "execute_result"
    }
   ],
   "source": [
    "# Crosstab loyalty with age group\n",
    "loyalty_income_cross = pd.crosstab(df['loyalty_flag'], df['income_group'], dropna = False)\n",
    "loyalty_income_cross"
   ]
  },
  {
   "cell_type": "code",
   "execution_count": 137,
   "id": "98ced426-f8e9-4fa3-a826-371366947f2d",
   "metadata": {},
   "outputs": [
    {
     "data": {
      "text/plain": [
       "(array([0, 1, 2]),\n",
       " [Text(0, 0, 'Loyal customer'),\n",
       "  Text(1, 0, 'New customer'),\n",
       "  Text(2, 0, 'Regular customer')])"
      ]
     },
     "execution_count": 137,
     "metadata": {},
     "output_type": "execute_result"
    },
    {
     "data": {
      "image/png": "[encoded data removed]",
      "text/plain": [
       "<Figure size 640x480 with 1 Axes>"
      ]
     },
     "metadata": {},
     "output_type": "display_data"
    }
   ],
   "source": [
    "# bar chart\n",
    "loyalty_income_bar = loyalty_income_cross.plot.bar()\n",
    "plt.title('Loyalty by Income Group')\n",
    "plt.xlabel('')\n",
    "plt.ylabel('count')\n",
    "plt.xticks(rotation=0)"
   ]
  },
  {
   "cell_type": "code",
   "execution_count": 138,
   "id": "ea67f7e4-1500-48e9-b35f-7efd8b44b0f7",
   "metadata": {},
   "outputs": [],
   "source": [
    "# Export the chart\n",
    "loyalty_income_bar.figure.savefig(os.path.join(path, 'Analysis','Visualizations', 'loyalty_income_group_bar.png'))"
   ]
  },
  {
   "cell_type": "code",
   "execution_count": 139,
   "id": "95dd8681-f3f1-48a6-8bde-ce71cb9fcf97",
   "metadata": {},
   "outputs": [
    {
     "data": {
      "text/html": [
       "<div>\n",
       "<style scoped>\n",
       "    .dataframe tbody tr th:only-of-type {\n",
       "        vertical-align: middle;\n",
       "    }\n",
       "\n",
       "    .dataframe tbody tr th {\n",
       "        vertical-align: top;\n",
       "    }\n",
       "\n",
       "    .dataframe thead th {\n",
       "        text-align: right;\n",
       "    }\n",
       "</style>\n",
       "<table border=\"1\" class=\"dataframe\">\n",
       "  <thead>\n",
       "    <tr style=\"text-align: right;\">\n",
       "      <th>spender_flag</th>\n",
       "      <th>High_spender</th>\n",
       "      <th>Low_spender</th>\n",
       "    </tr>\n",
       "    <tr>\n",
       "      <th>loyalty_flag</th>\n",
       "      <th></th>\n",
       "      <th></th>\n",
       "    </tr>\n",
       "  </thead>\n",
       "  <tbody>\n",
       "    <tr>\n",
       "      <th>Loyal customer</th>\n",
       "      <td>135612</td>\n",
       "      <td>4977026</td>\n",
       "    </tr>\n",
       "    <tr>\n",
       "      <th>New customer</th>\n",
       "      <td>83677</td>\n",
       "      <td>2288000</td>\n",
       "    </tr>\n",
       "    <tr>\n",
       "      <th>Regular customer</th>\n",
       "      <td>223598</td>\n",
       "      <td>7634374</td>\n",
       "    </tr>\n",
       "  </tbody>\n",
       "</table>\n",
       "</div>"
      ],
      "text/plain": [
       "spender_flag      High_spender  Low_spender\n",
       "loyalty_flag                               \n",
       "Loyal customer          135612      4977026\n",
       "New customer             83677      2288000\n",
       "Regular customer        223598      7634374"
      ]
     },
     "execution_count": 139,
     "metadata": {},
     "output_type": "execute_result"
    }
   ],
   "source": [
    "# Crosstab loyalty with spending\n",
    "loyalty_spender_cross = pd.crosstab(df['loyalty_flag'], df['spender_flag'], dropna = False)\n",
    "loyalty_spender_cross"
   ]
  },
  {
   "cell_type": "code",
   "execution_count": 140,
   "id": "159f2095-6e95-4859-82d1-8bddfa1f102f",
   "metadata": {},
   "outputs": [
    {
     "data": {
      "text/plain": [
       "(array([0, 1, 2]),\n",
       " [Text(0, 0, 'Loyal customer'),\n",
       "  Text(1, 0, 'New customer'),\n",
       "  Text(2, 0, 'Regular customer')])"
      ]
     },
     "execution_count": 140,
     "metadata": {},
     "output_type": "execute_result"
    },
    {
     "data": {
      "image/png": "[encoded data removed]",
      "text/plain": [
       "<Figure size 640x480 with 1 Axes>"
      ]
     },
     "metadata": {},
     "output_type": "display_data"
    }
   ],
   "source": [
    "# bar chart\n",
    "loyalty_spender_bar = loyalty_spender_cross.plot.bar()\n",
    "plt.title('Loyalty by Spender flag')\n",
    "plt.xlabel('')\n",
    "plt.ylabel('count')\n",
    "plt.xticks(rotation=0)"
   ]
  },
  {
   "cell_type": "code",
   "execution_count": 141,
   "id": "9823cd75-f03c-4e94-a27a-e7d56b6f28c2",
   "metadata": {},
   "outputs": [],
   "source": [
    "# Export the chart\n",
    "loyalty_spender_bar.figure.savefig(os.path.join(path, 'Analysis','Visualizations', 'loyalty_spender_bar.png'))"
   ]
  },
  {
   "cell_type": "code",
   "execution_count": 143,
   "id": "edf3e750-f824-4aca-ac86-bcbd32101235",
   "metadata": {},
   "outputs": [
    {
     "data": {
      "text/html": [
       "<div>\n",
       "<style scoped>\n",
       "    .dataframe tbody tr th:only-of-type {\n",
       "        vertical-align: middle;\n",
       "    }\n",
       "\n",
       "    .dataframe tbody tr th {\n",
       "        vertical-align: top;\n",
       "    }\n",
       "\n",
       "    .dataframe thead th {\n",
       "        text-align: right;\n",
       "    }\n",
       "</style>\n",
       "<table border=\"1\" class=\"dataframe\">\n",
       "  <thead>\n",
       "    <tr style=\"text-align: right;\">\n",
       "      <th>marital_status</th>\n",
       "      <th>divorced/widowed</th>\n",
       "      <th>living with parents and siblings</th>\n",
       "      <th>married</th>\n",
       "      <th>single</th>\n",
       "    </tr>\n",
       "    <tr>\n",
       "      <th>loyalty_flag</th>\n",
       "      <th></th>\n",
       "      <th></th>\n",
       "      <th></th>\n",
       "      <th></th>\n",
       "    </tr>\n",
       "  </thead>\n",
       "  <tbody>\n",
       "    <tr>\n",
       "      <th>Loyal customer</th>\n",
       "      <td>439650</td>\n",
       "      <td>244486</td>\n",
       "      <td>3579698</td>\n",
       "      <td>848804</td>\n",
       "    </tr>\n",
       "    <tr>\n",
       "      <th>New customer</th>\n",
       "      <td>198534</td>\n",
       "      <td>109105</td>\n",
       "      <td>1668749</td>\n",
       "      <td>395289</td>\n",
       "    </tr>\n",
       "    <tr>\n",
       "      <th>Regular customer</th>\n",
       "      <td>671630</td>\n",
       "      <td>380484</td>\n",
       "      <td>5523711</td>\n",
       "      <td>1282147</td>\n",
       "    </tr>\n",
       "  </tbody>\n",
       "</table>\n",
       "</div>"
      ],
      "text/plain": [
       "marital_status    divorced/widowed  living with parents and siblings  married  \\\n",
       "loyalty_flag                                                                    \n",
       "Loyal customer              439650                            244486  3579698   \n",
       "New customer                198534                            109105  1668749   \n",
       "Regular customer            671630                            380484  5523711   \n",
       "\n",
       "marital_status     single  \n",
       "loyalty_flag               \n",
       "Loyal customer     848804  \n",
       "New customer       395289  \n",
       "Regular customer  1282147  "
      ]
     },
     "execution_count": 143,
     "metadata": {},
     "output_type": "execute_result"
    }
   ],
   "source": [
    "loyalty_fam_cross = pd.crosstab(df['loyalty_flag'], df['marital_status'], dropna=False)\n",
    "loyalty_fam_cross"
   ]
  },
  {
   "cell_type": "code",
   "execution_count": 144,
   "id": "9f1d58fe-146b-42b0-864e-41eac5f81b78",
   "metadata": {},
   "outputs": [
    {
     "data": {
      "text/plain": [
       "(array([0, 1, 2]),\n",
       " [Text(0, 0, 'Loyal customer'),\n",
       "  Text(1, 0, 'New customer'),\n",
       "  Text(2, 0, 'Regular customer')])"
      ]
     },
     "execution_count": 144,
     "metadata": {},
     "output_type": "execute_result"
    },
    {
     "data": {
      "image/png": "[encoded data removed]",
      "text/plain": [
       "<Figure size 640x480 with 1 Axes>"
      ]
     },
     "metadata": {},
     "output_type": "display_data"
    }
   ],
   "source": [
    "# bar chart\n",
    "loyalty_fam_bar = loyalty_fam_cross.plot.bar()\n",
    "plt.title('Loyalty by Family Status')\n",
    "plt.xlabel('')\n",
    "plt.ylabel('count')\n",
    "plt.xticks(rotation=0)"
   ]
  },
  {
   "cell_type": "code",
   "execution_count": 152,
   "id": "b74fd80d-fe82-4b65-8e02-e62ef85a89a9",
   "metadata": {},
   "outputs": [],
   "source": [
    "# Export the chart\n",
    "loyalty_fam_bar.figure.savefig(os.path.join(path, 'Analysis','Visualizations', 'loyalty_fam_bar.png'))"
   ]
  },
  {
   "cell_type": "code",
   "execution_count": 153,
   "id": "4563eda1-e84d-44f5-9e21-d6cd1a7a5f75",
   "metadata": {},
   "outputs": [
    {
     "data": {
      "text/html": [
       "<div>\n",
       "<style scoped>\n",
       "    .dataframe tbody tr th:only-of-type {\n",
       "        vertical-align: middle;\n",
       "    }\n",
       "\n",
       "    .dataframe tbody tr th {\n",
       "        vertical-align: top;\n",
       "    }\n",
       "\n",
       "    .dataframe thead th {\n",
       "        text-align: right;\n",
       "    }\n",
       "</style>\n",
       "<table border=\"1\" class=\"dataframe\">\n",
       "  <thead>\n",
       "    <tr style=\"text-align: right;\">\n",
       "      <th>dependants_flag</th>\n",
       "      <th>has dependants</th>\n",
       "      <th>no dependants</th>\n",
       "    </tr>\n",
       "    <tr>\n",
       "      <th>loyalty_flag</th>\n",
       "      <th></th>\n",
       "      <th></th>\n",
       "    </tr>\n",
       "  </thead>\n",
       "  <tbody>\n",
       "    <tr>\n",
       "      <th>Loyal customer</th>\n",
       "      <td>3824184</td>\n",
       "      <td>1288454</td>\n",
       "    </tr>\n",
       "    <tr>\n",
       "      <th>New customer</th>\n",
       "      <td>1777854</td>\n",
       "      <td>593823</td>\n",
       "    </tr>\n",
       "    <tr>\n",
       "      <th>Regular customer</th>\n",
       "      <td>5904195</td>\n",
       "      <td>1953777</td>\n",
       "    </tr>\n",
       "  </tbody>\n",
       "</table>\n",
       "</div>"
      ],
      "text/plain": [
       "dependants_flag   has dependants  no dependants\n",
       "loyalty_flag                                   \n",
       "Loyal customer           3824184        1288454\n",
       "New customer             1777854         593823\n",
       "Regular customer         5904195        1953777"
      ]
     },
     "execution_count": 153,
     "metadata": {},
     "output_type": "execute_result"
    }
   ],
   "source": [
    "# Crosstab loyalty with dependants\n",
    "loyalty_depend_cross = pd.crosstab(df['loyalty_flag'], df['dependants_flag'], dropna = False)\n",
    "loyalty_depend_cross"
   ]
  },
  {
   "cell_type": "code",
   "execution_count": 154,
   "id": "3c45bc4e-869b-4ee1-9510-eb60da1bfb0b",
   "metadata": {},
   "outputs": [
    {
     "data": {
      "text/plain": [
       "(array([0, 1, 2]),\n",
       " [Text(0, 0, 'Loyal customer'),\n",
       "  Text(1, 0, 'New customer'),\n",
       "  Text(2, 0, 'Regular customer')])"
      ]
     },
     "execution_count": 154,
     "metadata": {},
     "output_type": "execute_result"
    },
    {
     "data": {
      "image/png": "[encoded data removed]",
      "text/plain": [
       "<Figure size 640x480 with 1 Axes>"
      ]
     },
     "metadata": {},
     "output_type": "display_data"
    }
   ],
   "source": [
    "# bar chart\n",
    "loyalty_depend_bar = loyalty_depend_cross.plot.bar()\n",
    "plt.title('Loyalty by Dependants Status')\n",
    "plt.xlabel('')\n",
    "plt.ylabel('count')\n",
    "plt.xticks(rotation=0)"
   ]
  },
  {
   "cell_type": "code",
   "execution_count": 155,
   "id": "04a23cc5-c77f-4332-ab07-822f7490d8b1",
   "metadata": {},
   "outputs": [
    {
     "data": {
      "text/plain": [
       "marital_status\n",
       "married                             10772158\n",
       "single                               2526240\n",
       "divorced/widowed                     1309814\n",
       "living with parents and siblings      734075\n",
       "Name: count, dtype: int64"
      ]
     },
     "execution_count": 155,
     "metadata": {},
     "output_type": "execute_result"
    }
   ],
   "source": [
    "fam_status = df['marital_status'].value_counts(dropna=False)\n",
    "fam_status"
   ]
  },
  {
   "cell_type": "code",
   "execution_count": 150,
   "id": "ed52c806-c554-46f8-b494-4a46255c7b69",
   "metadata": {},
   "outputs": [
    {
     "data": {
      "image/png": "[encoded data removed]",
      "text/plain": [
       "<Figure size 640x480 with 1 Axes>"
      ]
     },
     "metadata": {},
     "output_type": "display_data"
    }
   ],
   "source": [
    "# Pie chart showing the distribution of family status\n",
    "fam_status_distribution_pie = fam_status.plot.pie(autopct='%1.1f%%', labels= ['married', 'single', 'divorced/widowed', 'living with parents and siblings'], startangle=90, colors=['#ff9999','#66b3ff','#99ff99','#ffcc99'])\n",
    "plt.ylabel('')  # Hide the y-label\n",
    "plt.title('Distribution of Family Status')\n",
    "plt.show()"
   ]
  },
  {
   "cell_type": "code",
   "execution_count": 151,
   "id": "00d7ec5f-0195-43b5-9a47-94337697c5c4",
   "metadata": {},
   "outputs": [],
   "source": [
    "# Export the chart\n",
    "fam_status_distribution_pie.figure.savefig(os.path.join(path, 'Analysis','Visualizations', 'fam_status_bar.png'))"
   ]
  },
  {
   "cell_type": "code",
   "execution_count": null,
   "id": "a68c56a8-d72e-4382-9d06-433b65656297",
   "metadata": {},
   "outputs": [],
   "source": []
  }
 ],
 "metadata": {
  "kernelspec": {
   "display_name": "Python [conda env:base] *",
   "language": "python",
   "name": "conda-base-py"
  },
  "language_info": {
   "codemirror_mode": {
    "name": "ipython",
    "version": 3
   },
   "file_extension": ".py",
   "mimetype": "text/x-python",
   "name": "python",
   "nbconvert_exporter": "python",
   "pygments_lexer": "ipython3",
   "version": "3.12.7"
  }
 },
 "nbformat": 4,
 "nbformat_minor": 5
}
